{
 "cells": [
  {
   "cell_type": "markdown",
   "id": "ced195d1-4f38-4459-923b-eef741d66455",
   "metadata": {},
   "source": [
    "# 1.What is multithreading in python? why is it used? Name the module used to handle threads in python"
   ]
  },
  {
   "cell_type": "markdown",
   "id": "f1d03725-272f-40f1-869f-4d935622f004",
   "metadata": {},
   "source": [
    "### Multithreading in Python allows us to run multiple threads (smaller units of a process) concurrently(Simultaneously) within a single process. This can be useful for performing tasks that involve waiting, such as I/O operations, without blocking the main thread\n",
    "### Eg of MultiThreading----> Net-Banking"
   ]
  },
  {
   "cell_type": "markdown",
   "id": "cf8c7b36-dbd6-4c9a-b177-8c6da95486d5",
   "metadata": {},
   "source": [
    "# 2.why threading module used? Write the use of the following functions  \n",
    "1.activeCount()  \n",
    "2.currentThread()  \n",
    "3.enumerate()  "
   ]
  },
  {
   "cell_type": "markdown",
   "id": "49582d82-f090-4f68-8ebd-5a435c6b8688",
   "metadata": {},
   "source": [
    "### The threading module in Python is used to run multiple threads (smaller units of a process) simultaneously. This is particularly useful for tasks that can be performed in parallel, such as I/O operations, network requests, or any other tasks that may involve waiting, as it can improve the efficiency and performance of a program.  \n",
    "1.activeCount()-->It's used when you want to know how many threads are currently running in your program. This can be helpful for debugging or for controlling the execution flow based on the number of active threads. \n",
    "\n",
    "2.currentThread(): It is useful when you need to get information about the thread that's currently running, such as its name or whether it's a daemon thread. It can also be used to perform thread-specific actions.  \n",
    "\n",
    "3.enumerate():Use: You can use this function when you need to inspect all the running threads, such as for logging purposes or for controlling thread execution based on their state  "
   ]
  },
  {
   "cell_type": "markdown",
   "id": "c2c6eda6-2df3-4b15-b7fe-b78bca5a0201",
   "metadata": {},
   "source": [
    "# 3. Explain the following functions  \n",
    "1.run()   \n",
    "2.start()  \n",
    "3.join()  \n",
    "4.isAlive()  "
   ]
  },
  {
   "cell_type": "markdown",
   "id": "4a32db89-245f-4d6e-86b2-b7fb31c7247d",
   "metadata": {},
   "source": [
    "1.run():Typically, you don't call run() directly. Instead, you override it in a subclass of Thread, and it gets called when you start the thread using the start() method. If you call run() directly, it will execute the method in the current thread, not as a separate thread.  \n",
    "\n",
    "2.start():When you call start(), a new thread is created, and the run() method is executed in that thread. This is the correct way to start a thread; calling run() directly does not start a new thread.\n",
    "\n",
    "3.join():It's used when you want to ensure that a thread has completed its work before proceeding further in your program. You can specify an optional timeout for how long to wait for the thread to finish.  \n",
    "\n",
    "4.isAlive():It returns True if the thread is still running, and False otherwise. It's useful when you need to check the status of a thread and decide whether to wait for it or perform some other action.   \n"
   ]
  },
  {
   "cell_type": "markdown",
   "id": "378412bc-5c82-47f2-9811-bc5f3b341a17",
   "metadata": {},
   "source": [
    "# 4.Write a python program to create two threads. Thread one must print the list of squares and thread two must print the list of cubes\n",
    "\n"
   ]
  },
  {
   "cell_type": "code",
   "execution_count": 5,
   "id": "73ddf8ee-28d3-4096-9084-dd4a62cc7478",
   "metadata": {},
   "outputs": [
    {
     "name": "stdout",
     "output_type": "stream",
     "text": [
      "The square of 1 is : 1\n",
      "The square of 2 is : 4\n",
      "The square of 3 is : 9\n",
      "The square of 4 is : 16\n",
      "The square of 5 is : 25\n",
      "The cube of 1 is : 1\n",
      "The cube of 2 is : 8\n",
      "The cube of 3 is : 27\n",
      "The cube of 4 is : 64\n",
      "The cube of 5 is : 125\n"
     ]
    }
   ],
   "source": [
    "import threading\n",
    "def calculate_square(number):\n",
    "    result=number*number\n",
    "    print(f\"The square of {number} is : {result}\")\n",
    "    \n",
    "def calculate_cube(number):\n",
    "    result=number*number*number\n",
    "    print(f\"The cube of {number} is : {result}\")\n",
    "\n",
    "#creating Thread \n",
    "threads = []\n",
    "for i in range(1,6):\n",
    "    thread = threading.Thread(target=calculate_square,args=(i,))\n",
    "    threads.append(thread)\n",
    "    thread.start()\n",
    "    \n",
    "for i in range(1,6):\n",
    "    thread = threading.Thread(target=calculate_cube,args=(i,))\n",
    "    threads.append(thread)\n",
    "    ## Start the thread\n",
    "    thread.start()\n",
    "# Wait for all thread finish \n",
    "for t in threads:\n",
    "    t.join()\n",
    "    "
   ]
  },
  {
   "cell_type": "code",
   "execution_count": 11,
   "id": "98a1625a-1874-4e75-a2f9-f94017669383",
   "metadata": {},
   "outputs": [
    {
     "name": "stdout",
     "output_type": "stream",
     "text": [
      "Squares:\n",
      "1^2 = 1\n",
      "2^2 = 4\n",
      "3^2 = 9\n",
      "4^2 = 16\n",
      "5^2 = 25\n",
      "Cubes:\n",
      "1^3 = 1\n",
      "2^3 = 8\n",
      "3^3 = 27\n",
      "4^3 = 64\n",
      "5^3 = 125\n",
      "Both threads have finished execution.\n"
     ]
    }
   ],
   "source": [
    "import threading\n",
    "\n",
    "def print_squares(numbers):\n",
    "    print(\"Squares:\")\n",
    "    for n in numbers:\n",
    "        print(f\"{n}^2 = {n**2}\")\n",
    "\n",
    "def print_cubes(numbers):\n",
    "    print(\"Cubes:\")\n",
    "    for n in numbers:\n",
    "        print(f\"{n}^3 = {n**3}\")\n",
    "\n",
    "# List of numbers to compute squares and cubes\n",
    "numbers = [1, 2, 3, 4, 5]\n",
    "\n",
    "# Creating two threads\n",
    "t1 = threading.Thread(target=print_squares, args=(numbers,))\n",
    "t2 = threading.Thread(target=print_cubes, args=(numbers,))\n",
    "\n",
    "# Starting the threads\n",
    "t1.start()\n",
    "t2.start()\n",
    "\n",
    "# Waiting for both threads to finish\n",
    "t1.join()\n",
    "t2.join()\n",
    "\n",
    "print(\"Both threads have finished execution.\")\n"
   ]
  },
  {
   "cell_type": "markdown",
   "id": "da190cf3-5e28-4e69-b015-fc28c0b9c70f",
   "metadata": {},
   "source": [
    "# 5.State advantages and disadvantages of multithreading"
   ]
  },
  {
   "cell_type": "markdown",
   "id": "93f95568-5ad2-4878-9265-f10b23d59096",
   "metadata": {},
   "source": [
    "## Advantages of Multithreading\n",
    "1.Increased Responsiveness  \n",
    "2.Efficient Use of Resources  \n",
    "3.Parallelism  \n",
    "4.Simplified Program Design  \n",
    "5.Concurrent Execution\n",
    "## Disadvantages of Multithreading\n",
    "1.Complexity in Development\n",
    "2.Increased Overhead\n",
    "3.Risk of Data Corruption\n",
    "4.Unpredictable Results\n",
    "5.Difficulty in Testing"
   ]
  },
  {
   "cell_type": "markdown",
   "id": "9abd2fa9-9ec5-4066-a3b9-357e7b8a2c37",
   "metadata": {},
   "source": [
    "# 6.Explain deadlocks and race conditions."
   ]
  },
  {
   "cell_type": "code",
   "execution_count": null,
   "id": "efc5aa7c-5fbf-4e95-937b-3a4cd39124c3",
   "metadata": {},
   "outputs": [],
   "source": []
  }
 ],
 "metadata": {
  "kernelspec": {
   "display_name": "Python 3 (ipykernel)",
   "language": "python",
   "name": "python3"
  },
  "language_info": {
   "codemirror_mode": {
    "name": "ipython",
    "version": 3
   },
   "file_extension": ".py",
   "mimetype": "text/x-python",
   "name": "python",
   "nbconvert_exporter": "python",
   "pygments_lexer": "ipython3",
   "version": "3.10.8"
  }
 },
 "nbformat": 4,
 "nbformat_minor": 5
}
