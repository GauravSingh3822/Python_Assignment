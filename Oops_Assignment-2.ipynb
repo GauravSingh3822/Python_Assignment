{
 "cells": [
  {
   "cell_type": "markdown",
   "id": "fc458cb3-cfdd-4637-826d-87d79089c131",
   "metadata": {},
   "source": [
    "\n",
    "\n",
    "Q5. Can we create an instance of an abstract class? Explain your answer."
   ]
  },
  {
   "cell_type": "markdown",
   "id": "e58dc1c7-dd4b-419a-a9da-14c9794c010f",
   "metadata": {},
   "source": [
    "## Q1. What is Abstraction in OOps? Explain with an example."
   ]
  },
  {
   "cell_type": "markdown",
   "id": "c384e743-20fc-4898-91bb-4d4451949bc0",
   "metadata": {},
   "source": [
    "Abstraction is the process of hiding the complex implementation details and showing only the essential features of an object. It focuses on what an object does rather than how it does it."
   ]
  },
  {
   "cell_type": "code",
   "execution_count": 3,
   "id": "d2e9be24-2ea5-4e24-8338-a6361f603419",
   "metadata": {},
   "outputs": [],
   "source": [
    "## Example of Abstraction\n",
    "import abc\n",
    "class pwskills :\n",
    "    @abc.abstractmethod\n",
    "    def student_details(self):\n",
    "        pass\n",
    "    \n",
    "    @abc.abstractmethod\n",
    "    def student_assignment(self):\n",
    "        pass\n",
    "    @abc.abstractmethod\n",
    "    def student_mark(self):\n",
    "        pass "
   ]
  },
  {
   "cell_type": "markdown",
   "id": "da321b18-b8f2-4dba-b209-981a0135d1e8",
   "metadata": {},
   "source": [
    "## Q2. Differentiate between Abstraction and Encapsulation. Explain with an example."
   ]
  },
  {
   "cell_type": "markdown",
   "id": "9f3ac21c-1d00-4338-8f2c-fd1b425c166e",
   "metadata": {},
   "source": [
    "Abstraction is the process of hiding the complex implementation details and showing only the essential features of an object. It focuses on what an object does rather than how it does it.  \n",
    "\n",
    "Encapsulation is the process of wrapping data (variables) and methods (functions) that operate on the data into a single unit, typically a class. It restricts direct access to some of the object's components, which can help prevent accidental interference and misuse."
   ]
  },
  {
   "cell_type": "code",
   "execution_count": 5,
   "id": "a386d524-dce7-44d9-84f9-e9f3a36411e5",
   "metadata": {},
   "outputs": [],
   "source": [
    "## Example of Abstraction\n",
    "import abc\n",
    "class pwskills :\n",
    "    @abc.abstractmethod\n",
    "    def student_details(self):\n",
    "        pass\n",
    "    \n",
    "    @abc.abstractmethod\n",
    "    def student_assignment(self):\n",
    "        pass\n",
    "    @abc.abstractmethod\n",
    "    def student_mark(self):\n",
    "        pass "
   ]
  },
  {
   "cell_type": "code",
   "execution_count": 6,
   "id": "51db7265-2d50-40f8-ad49-d745950ac792",
   "metadata": {},
   "outputs": [],
   "source": [
    "## Example of Encapsulation\n",
    "import abc\n",
    "class pwskills :\n",
    "   \n",
    "    def _student_details(self):#private \n",
    "        pass\n",
    "    def student_assignment(self):\n",
    "        pass\n",
    "    def student_mark(self):\n",
    "        pass "
   ]
  },
  {
   "cell_type": "markdown",
   "id": "e6616014-b7db-4cf4-8986-91f3a0f647b7",
   "metadata": {},
   "source": [
    "## Q3. What is abc module in python? Why is it used?"
   ]
  },
  {
   "cell_type": "markdown",
   "id": "8468f1b7-c8d2-43a7-8832-d108a5f5e035",
   "metadata": {},
   "source": [
    "The abc module in Python stands for \"Abstract Base Classes.\"\n",
    "It is used to define abstract base classes, which are classes that cannot be instantiated on their own and are meant to be subclassed by concrete classes that provide implementations for the abstract methods."
   ]
  },
  {
   "cell_type": "markdown",
   "id": "f0ad6550-7647-4059-a335-ed276bbabe1c",
   "metadata": {},
   "source": [
    "## Q4. How can we achieve data abstraction?"
   ]
  },
  {
   "cell_type": "markdown",
   "id": "a4d43b41-2435-424f-83a0-b79be9c8c6de",
   "metadata": {},
   "source": [
    "Data abstraction in programming is achieved by exposing only essential information to the outside world while hiding the internal implementation details."
   ]
  },
  {
   "cell_type": "code",
   "execution_count": null,
   "id": "ba95a662-1a48-4354-b842-94b234a67716",
   "metadata": {},
   "outputs": [],
   "source": []
  }
 ],
 "metadata": {
  "kernelspec": {
   "display_name": "Python 3 (ipykernel)",
   "language": "python",
   "name": "python3"
  },
  "language_info": {
   "codemirror_mode": {
    "name": "ipython",
    "version": 3
   },
   "file_extension": ".py",
   "mimetype": "text/x-python",
   "name": "python",
   "nbconvert_exporter": "python",
   "pygments_lexer": "ipython3",
   "version": "3.10.8"
  }
 },
 "nbformat": 4,
 "nbformat_minor": 5
}
