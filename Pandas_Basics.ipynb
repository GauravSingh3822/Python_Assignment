{
 "cells": [
  {
   "cell_type": "markdown",
   "id": "257c601a-c64d-4986-8b36-6eb2c57819c7",
   "metadata": {},
   "source": [
    "# Q1. Create a Pandas Series that contains the following data: 4, 8, 15, 16, 23, and 42. Then, print the series."
   ]
  },
  {
   "cell_type": "code",
   "execution_count": 3,
   "id": "a2a3bd21-cfe4-424b-84d9-927cf5c9cb89",
   "metadata": {},
   "outputs": [
    {
     "name": "stdout",
     "output_type": "stream",
     "text": [
      "0     4\n",
      "1     8\n",
      "2    15\n",
      "3    16\n",
      "4    23\n",
      "5    42\n",
      "dtype: int64\n"
     ]
    }
   ],
   "source": [
    "## Create a pandas series form list\n",
    "import pandas as pd\n",
    "lst=[4,8,15,16,23,42]\n",
    "series=pd.Series(lst)\n",
    "print(series)"
   ]
  },
  {
   "cell_type": "markdown",
   "id": "f731ae1c-96ee-42e8-8118-5e444f36864b",
   "metadata": {},
   "source": [
    "# Q2. Create a variable of list type containing 10 elements in it, and apply pandas.Series function on the variable print it."
   ]
  },
  {
   "cell_type": "code",
   "execution_count": 5,
   "id": "9f8ee144-ad90-4cb8-b439-378224ceceea",
   "metadata": {},
   "outputs": [
    {
     "name": "stdout",
     "output_type": "stream",
     "text": [
      "0     1\n",
      "1     2\n",
      "2     3\n",
      "3     4\n",
      "4     5\n",
      "5     6\n",
      "6     7\n",
      "7     8\n",
      "8     9\n",
      "9    10\n",
      "dtype: int64\n"
     ]
    }
   ],
   "source": [
    "lst=[1,2,3,4,5,6,7,8,9,10]\n",
    "series=pd.Series(lst)\n",
    "print(series)"
   ]
  },
  {
   "cell_type": "markdown",
   "id": "e8f9e74a-642c-46b9-9a20-06ff7bb04e80",
   "metadata": {},
   "source": [
    "# Q3. Create a Pandas DataFrame that contains the following data: Then, print the DataFrame."
   ]
  },
  {
   "cell_type": "code",
   "execution_count": 7,
   "id": "81e7be2b-b651-4b41-afd3-2036ac1ad71e",
   "metadata": {},
   "outputs": [
    {
     "name": "stdout",
     "output_type": "stream",
     "text": [
      "      Name  Age  Gender\n",
      "0    Alice   25  Female\n",
      "1      Bob   30    Male\n",
      "2  Clariea   27  Female\n"
     ]
    }
   ],
   "source": [
    "import pandas as pd\n",
    "data={\n",
    "    \"Name\":[\"Alice\",\"Bob\",\"Clariea\"],\n",
    "    \"Age\":[25,30,27],\n",
    "    \"Gender\":[\"Female\",\"Male\",\"Female\"]\n",
    "}\n",
    "df=pd.DataFrame(data)\n",
    "print(df)"
   ]
  },
  {
   "cell_type": "markdown",
   "id": "29160afa-35c4-4153-8460-ec3c6d1e286a",
   "metadata": {},
   "source": [
    "# Q4. What is ‘DataFrame’ in pandas and how is it different from pandas.series? Explain with an example."
   ]
  },
  {
   "cell_type": "markdown",
   "id": "c127a5f8-0148-4c4d-a63d-e19e5942e34b",
   "metadata": {},
   "source": [
    "# Data frame is a collection of the multiple column where series is a only a single column "
   ]
  },
  {
   "cell_type": "code",
   "execution_count": 15,
   "id": "aa608393-0a16-4977-bd79-3168f8a5c0fa",
   "metadata": {},
   "outputs": [
    {
     "name": "stdout",
     "output_type": "stream",
     "text": [
      "Eg of Series\n",
      "0    Gaurav\n",
      "1     Mannu\n",
      "2     Singh\n",
      "dtype: object\n",
      "--------------------------------------------------------------------------------\n",
      "Eg of DataFrame\n",
      "      Name  Age Gender\n",
      "0   Gaurav   24   Male\n",
      "1    Mannu   26   Male\n",
      "2  Shubham   27   Male\n"
     ]
    }
   ],
   "source": [
    "# eg of series \n",
    "print('Eg of Series')\n",
    "lst=['Gaurav','Mannu','Singh']\n",
    "series=pd.Series(lst)\n",
    "print(series)\n",
    "print('--'*40)\n",
    "\n",
    "## eg of DataFrame\n",
    "print(\"Eg of DataFrame\")\n",
    "data={\n",
    "  'Name':[\"Gaurav\",\"Mannu\",\"Shubham\"],\n",
    "  'Age':[24,26,27],\n",
    "  'Gender':['Male','Male','Male']\n",
    "}\n",
    "df=pd.DataFrame(data)\n",
    "print(df)"
   ]
  },
  {
   "cell_type": "markdown",
   "id": "5596e886-02fc-4c40-8e27-c7bacb71b3ff",
   "metadata": {},
   "source": [
    "# Q5. What are some common functions you can use to manipulate data in a Pandas DataFrame? Can you give an example of when you might use one of these functions?"
   ]
  },
  {
   "cell_type": "markdown",
   "id": "450db80c-9b01-460a-957a-6a3bbf9b045e",
   "metadata": {},
   "source": [
    "## some common functions you can use to manipulate data in a Pandas DataFrame  \n",
    "## 1.df.head()\n",
    "## 2.tail()\n",
    "## 3.describe()\n",
    "## 4.drop()\n",
    "## 5.dropna()\n",
    "## 6.info()"
   ]
  },
  {
   "cell_type": "markdown",
   "id": "add64a41-24ee-4fa8-98e5-a396a97f3865",
   "metadata": {},
   "source": [
    "# Q6. Which of the following is mutable in nature Series, DataFrame, Panel?"
   ]
  },
  {
   "cell_type": "markdown",
   "id": "bf8d63ce-da81-43c5-932f-de9aaf13c17d",
   "metadata": {},
   "source": [
    "## Series nd DataFrame are Mutable in nature"
   ]
  },
  {
   "cell_type": "markdown",
   "id": "2f47bf9d-70e0-4235-9105-85dac87d5ac1",
   "metadata": {},
   "source": [
    "# Q7. Create a DataFrame using multiple Series. Explain with an example."
   ]
  },
  {
   "cell_type": "code",
   "execution_count": 18,
   "id": "b66fc7b9-6923-4d2b-bb37-55ade3844d80",
   "metadata": {},
   "outputs": [
    {
     "name": "stdout",
     "output_type": "stream",
     "text": [
      "      Name  Age  Gender   Insitute            Course\n",
      "0    Alice   25  Female  Pw skills      Data_Science\n",
      "1      Bob   30    Male  Pw skills      Data Analyst\n",
      "2  Clariea   27  Female    ineuron  Java Development\n"
     ]
    }
   ],
   "source": [
    "import pandas as pd\n",
    "data={\n",
    "    \"Name\":[\"Alice\",\"Bob\",\"Clariea\"],\n",
    "    \"Age\":[25,30,27],\n",
    "    \"Gender\":[\"Female\",\"Male\",\"Female\"],\n",
    "    \"Insitute\":['Pw skills','Pw skills','ineuron'],\n",
    "    \"Course\" :[\"Data_Science\",\"Data Analyst\",'Java Development']\n",
    "}\n",
    "df=pd.DataFrame(data)\n",
    "print(df)"
   ]
  }
 ],
 "metadata": {
  "kernelspec": {
   "display_name": "Python 3 (ipykernel)",
   "language": "python",
   "name": "python3"
  },
  "language_info": {
   "codemirror_mode": {
    "name": "ipython",
    "version": 3
   },
   "file_extension": ".py",
   "mimetype": "text/x-python",
   "name": "python",
   "nbconvert_exporter": "python",
   "pygments_lexer": "ipython3",
   "version": "3.10.8"
  }
 },
 "nbformat": 4,
 "nbformat_minor": 5
}
