{
 "cells": [
  {
   "cell_type": "markdown",
   "id": "7503e3e4-3686-4660-9312-75954f899ffd",
   "metadata": {},
   "source": [
    "# Q1. What is multiprocessing in python? Why is it useful?"
   ]
  },
  {
   "cell_type": "markdown",
   "id": "8f8d4a00-759c-4231-bb8b-bcfdad4629ae",
   "metadata": {},
   "source": [
    "### Python mein multiprocessing ka matlab hai multiple processes ko ek saath chalana, jisse parallel execution possible ho jata hai. Ye Global Interpreter Lock (GIL) ko bypass karta hai, jo CPU-bound tasks ke liye bahut faydemand hota hai. Isse system ke cores ka pura utilization hota hai, aur performance better hoti hai."
   ]
  },
  {
   "cell_type": "markdown",
   "id": "8b8b8612-ec44-4923-b739-0283477b10c7",
   "metadata": {},
   "source": [
    "# Q2. What are the differences between multiprocessing and multithreading?"
   ]
  },
  {
   "cell_type": "markdown",
   "id": "3756a61c-123b-44cf-96fc-39c38cd47af0",
   "metadata": {},
   "source": [
    "### Multiprocessing mein multiple processes chalti hain, jinke paas apna alag memory space hota hai, isliye ye CPU-bound tasks ke liye best hai kyunki ye GIL ko bypass karta hai aur multi-core systems pe true parallelism allow karta hai. Multithreading mein ek hi process ke andar multiple threads hote hain jo memory share karte hain, aur ye I/O-bound tasks ke liye zyada useful hoti hai. Multiprocessing heavy computations ke liye better hai, jabki multithreading tasks ke liye efficient hai jo zyada wait karwati hain, jaise network operations."
   ]
  },
  {
   "cell_type": "markdown",
   "id": "a86bb42b-fb41-4024-965b-20be6c4204c3",
   "metadata": {},
   "source": [
    "# Q3. Write a python code to create a process using the multiprocessing module."
   ]
  },
  {
   "cell_type": "code",
   "execution_count": 1,
   "id": "aab3abb7-0800-4e54-bbc0-73c2b892bd33",
   "metadata": {},
   "outputs": [
    {
     "name": "stdout",
     "output_type": "stream",
     "text": [
      "Process 1 : 1\n",
      "Process 2 : 2\n",
      "Process 3 : 3\n",
      "Process 4 : 4\n"
     ]
    }
   ],
   "source": [
    "import multiprocessing\n",
    "\n",
    "def process_1(number) :\n",
    "    print(f\"Process {number} : {number}\")\n",
    "if __name__=='__main__' :\n",
    "    processes = []\n",
    "    for i in range(1,5):\n",
    "        p = multiprocessing.Process(target=process_1, args=(i,))\n",
    "        processes.append(p)\n",
    "        p.start()\n",
    "\n",
    "    # Ensuring all processes complete\n",
    "    for p in processes:\n",
    "        p.join()"
   ]
  },
  {
   "cell_type": "markdown",
   "id": "b1e1aadb-3a83-4214-8d98-282334b22721",
   "metadata": {},
   "source": [
    "# Q4. What is a multiprocessing pool in python? Why is it used?"
   ]
  },
  {
   "cell_type": "markdown",
   "id": "1484c165-39b8-4dd0-86b7-cc637258ff72",
   "metadata": {},
   "source": [
    "### Multiprocessing pool Python mein ek feature hai jo multiple processes ko manage karne mein madad karta hai. Pool ek group of worker processes create karta hai aur unhe tasks assign karta hai, jisse aapko manually processes ko handle karne ki zaroorat nahi hoti. Ye parallel tasks ko efficiently execute karne ke liye use hota hai, jaise agar aapko ek hi function ko multiple inputs ke saath parallel execute karna ho, toh pool kaam aata hai."
   ]
  },
  {
   "cell_type": "markdown",
   "id": "fd3a42fb-811a-44de-89c1-f66916bd322e",
   "metadata": {},
   "source": [
    "# Q5. How can we create a pool of worker processes in python using the multiprocessing module?"
   ]
  },
  {
   "cell_type": "code",
   "execution_count": 2,
   "id": "06c84c29-39ed-4559-8aa6-65cef8b1bd2f",
   "metadata": {},
   "outputs": [
    {
     "name": "stdout",
     "output_type": "stream",
     "text": [
      "[1, 4, 9, 16, 25]\n"
     ]
    }
   ],
   "source": [
    "from multiprocessing import Pool\n",
    "def square(n):\n",
    "    return n * n\n",
    "if __name__ == \"__main__\":\n",
    "    with Pool(processes=4) as pool:  # Create a pool with 4 worker processes\n",
    "        numbers = [1, 2, 3, 4, 5]\n",
    "        results = pool.map(square, numbers)  # Apply the 'square' function to each number in parallel\n",
    "        print(results)"
   ]
  },
  {
   "cell_type": "markdown",
   "id": "285ba1f2-77e7-4018-addd-064210269739",
   "metadata": {},
   "source": [
    "# Q6. Write a python program to create 4 processes, each process should print a different number using themultiprocessing module in python."
   ]
  },
  {
   "cell_type": "code",
   "execution_count": null,
   "id": "9c81b5b4-05d5-4bc4-918a-e48d59b414b9",
   "metadata": {},
   "outputs": [],
   "source": []
  }
 ],
 "metadata": {
  "kernelspec": {
   "display_name": "Python 3 (ipykernel)",
   "language": "python",
   "name": "python3"
  },
  "language_info": {
   "codemirror_mode": {
    "name": "ipython",
    "version": 3
   },
   "file_extension": ".py",
   "mimetype": "text/x-python",
   "name": "python",
   "nbconvert_exporter": "python",
   "pygments_lexer": "ipython3",
   "version": "3.10.8"
  }
 },
 "nbformat": 4,
 "nbformat_minor": 5
}
