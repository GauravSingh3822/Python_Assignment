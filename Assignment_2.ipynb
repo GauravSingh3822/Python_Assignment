{
  "nbformat": 4,
  "nbformat_minor": 0,
  "metadata": {
    "colab": {
      "provenance": [],
      "authorship_tag": "ABX9TyPu6HTLBk3S51Y2l7asVE2y",
      "include_colab_link": true
    },
    "kernelspec": {
      "name": "python3",
      "display_name": "Python 3"
    },
    "language_info": {
      "name": "python"
    }
  },
  "cells": [
    {
      "cell_type": "markdown",
      "metadata": {
        "id": "view-in-github",
        "colab_type": "text"
      },
      "source": [
        "<a href=\"https://colab.research.google.com/github/GauravSingh3822/Python_Assignment/blob/main/Assignment_2.ipynb\" target=\"_parent\"><img src=\"https://colab.research.google.com/assets/colab-badge.svg\" alt=\"Open In Colab\"/></a>"
      ]
    },
    {
      "cell_type": "markdown",
      "source": [
        "##Q1. How do you comment code in Python? What are the different types of comments?"
      ],
      "metadata": {
        "id": "YF3UfYF8I5fe"
      }
    },
    {
      "cell_type": "markdown",
      "source": [],
      "metadata": {
        "id": "uHrxY123I26m"
      }
    },
    {
      "cell_type": "code",
      "source": [
        "## comment in Python used to not exceute the code in particular code ...It is help the programmer give information about the Particular the line of program..\n",
        "## Comment in Python is denoted by the (#)"
      ],
      "metadata": {
        "id": "MP0_WuH6e4F8"
      },
      "execution_count": 1,
      "outputs": []
    },
    {
      "cell_type": "markdown",
      "source": [
        "## Q2. What are variables in Python? How do you declare and assign values to variables?"
      ],
      "metadata": {
        "id": "ET7_bS4zJpkE"
      }
    },
    {
      "cell_type": "code",
      "source": [
        "## Varible is type of container in which we assign the particular value like str,int,float\n",
        "## We declare the Variable by naming convention rule like age,name,id ,etc"
      ],
      "metadata": {
        "id": "Y8BCJAB9IsRr"
      },
      "execution_count": 2,
      "outputs": []
    },
    {
      "cell_type": "markdown",
      "source": [
        "## Q3. How do you convert one data type to another in Python?"
      ],
      "metadata": {
        "id": "vU6hWqN5KLxQ"
      }
    },
    {
      "cell_type": "code",
      "source": [
        "## Typecasting is merthod is use to convert one data data type to another"
      ],
      "metadata": {
        "id": "NcUFN8YKIsUt"
      },
      "execution_count": null,
      "outputs": []
    },
    {
      "cell_type": "markdown",
      "source": [
        "## Q5. Given a list my_list = [1, 2, 3, 4, 5], write the code to slice the list and obtain the sub-list [2, 3]."
      ],
      "metadata": {
        "id": "8qX9qr4ELGz_"
      }
    },
    {
      "cell_type": "code",
      "source": [
        "my_list = [1, 2, 3, 4, 5]\n",
        "sub_list=my_list[1:3]"
      ],
      "metadata": {
        "id": "_OnqdkvOIsde"
      },
      "execution_count": 8,
      "outputs": []
    },
    {
      "cell_type": "code",
      "source": [
        "sub_list"
      ],
      "metadata": {
        "colab": {
          "base_uri": "https://localhost:8080/"
        },
        "id": "LLbkWO6EIsgr",
        "outputId": "f983f240-6bb0-4628-a018-6dc3b4770af8"
      },
      "execution_count": 9,
      "outputs": [
        {
          "output_type": "execute_result",
          "data": {
            "text/plain": [
              "[2, 3]"
            ]
          },
          "metadata": {},
          "execution_count": 9
        }
      ]
    },
    {
      "cell_type": "markdown",
      "source": [
        "## Q6. What is a complex number in mathematics, and how is it represented in Python?"
      ],
      "metadata": {
        "id": "BU-uTkoSLlM2"
      }
    },
    {
      "cell_type": "code",
      "source": [
        "## Complex number is combination of the real and imaginary part and in it Python it is represented by a+jb"
      ],
      "metadata": {
        "id": "MVvH45rHIsls"
      },
      "execution_count": 10,
      "outputs": []
    },
    {
      "cell_type": "markdown",
      "source": [
        "## Q7. What is the correct way to declare a variable named age and assign the value 25 to it?"
      ],
      "metadata": {
        "id": "PAe6n_LrMKXG"
      }
    },
    {
      "cell_type": "code",
      "source": [
        "## The correct way to represent variable is\n",
        "## age=25"
      ],
      "metadata": {
        "id": "lP2sZ10qLkQ-"
      },
      "execution_count": 11,
      "outputs": []
    },
    {
      "cell_type": "markdown",
      "source": [
        "## Q8. Declare a variable named price and assign the value 9.99 to it. What data type does this variablebelong to?"
      ],
      "metadata": {
        "id": "-xfPBpr9MkXL"
      }
    },
    {
      "cell_type": "code",
      "source": [
        "price=9.99\n",
        "type(price)"
      ],
      "metadata": {
        "colab": {
          "base_uri": "https://localhost:8080/"
        },
        "id": "cKwevm_fK2xb",
        "outputId": "762c52b0-6dc2-4f1b-e4df-7d082b5e83fe"
      },
      "execution_count": 12,
      "outputs": [
        {
          "output_type": "execute_result",
          "data": {
            "text/plain": [
              "float"
            ]
          },
          "metadata": {},
          "execution_count": 12
        }
      ]
    },
    {
      "cell_type": "markdown",
      "source": [
        "## Q9. Create a variable named name and assign your full name to it as a string. How would you print thevalue of this variable?"
      ],
      "metadata": {
        "id": "y-J9DGq9M1Vb"
      }
    },
    {
      "cell_type": "code",
      "source": [
        "name=\"Gaurav Singh\"\n",
        "type(name)"
      ],
      "metadata": {
        "colab": {
          "base_uri": "https://localhost:8080/"
        },
        "id": "A4_ZK3zbMuhz",
        "outputId": "7ddd2b21-a8ae-4928-b276-efcb2ada114c"
      },
      "execution_count": 13,
      "outputs": [
        {
          "output_type": "execute_result",
          "data": {
            "text/plain": [
              "str"
            ]
          },
          "metadata": {},
          "execution_count": 13
        }
      ]
    },
    {
      "cell_type": "markdown",
      "source": [
        "## Q10. Given the string \"Hello, World!\", extract the substring \"World\"."
      ],
      "metadata": {
        "id": "N6IYvR1nNCSh"
      }
    },
    {
      "cell_type": "code",
      "source": [
        "string=\"Hello, World!\"\n",
        "substring=string[7:12]"
      ],
      "metadata": {
        "id": "CoFkTml6M8nO"
      },
      "execution_count": 14,
      "outputs": []
    },
    {
      "cell_type": "code",
      "source": [
        "substring"
      ],
      "metadata": {
        "colab": {
          "base_uri": "https://localhost:8080/",
          "height": 35
        },
        "id": "OI71F0c_NhSr",
        "outputId": "fbd0fc3a-d096-452f-e7e5-79df55b5ee61"
      },
      "execution_count": 15,
      "outputs": [
        {
          "output_type": "execute_result",
          "data": {
            "text/plain": [
              "'World'"
            ],
            "application/vnd.google.colaboratory.intrinsic+json": {
              "type": "string"
            }
          },
          "metadata": {},
          "execution_count": 15
        }
      ]
    },
    {
      "cell_type": "markdown",
      "source": [
        "## Q11. Create a variable named \"is_student\" and assign it a boolean value indicating whether you are currently a student or not."
      ],
      "metadata": {
        "id": "-Xrfu89xNsT7"
      }
    },
    {
      "cell_type": "code",
      "source": [
        "is_student=True"
      ],
      "metadata": {
        "id": "Vc3HFl1aNjw6"
      },
      "execution_count": 17,
      "outputs": []
    },
    {
      "cell_type": "code",
      "source": [],
      "metadata": {
        "id": "ZyPwKk7XNyWp"
      },
      "execution_count": null,
      "outputs": []
    }
  ]
}