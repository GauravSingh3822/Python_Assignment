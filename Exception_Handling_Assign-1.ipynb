{
 "cells": [
  {
   "cell_type": "markdown",
   "id": "fea4cb45-1e61-4dcf-aab4-92a14d63d449",
   "metadata": {},
   "source": [
    "## Q1. What is  an Exception in python ?.Write the difference between Exceeptions and Syntax errors?\n"
   ]
  },
  {
   "cell_type": "markdown",
   "id": "f74363fc-3fa0-4275-bc09-676781ae33d9",
   "metadata": {},
   "source": [
    "Exception handling means when we excute the code and we got some error ..Handle this error we use Exception handling method to deal the problem....  \n",
    "Difference between the Exception and Syntax error\n",
    "Synatx error occurr before exceution of the progam we got some error like (;,:,)etc are known as Synatx error\n",
    "Exception error occur when program completly excuted Exception error like ZeroDivisionError,NotFileFoundError,OSErroor etc are come under Exception Error  \\"
   ]
  },
  {
   "cell_type": "markdown",
   "id": "35d3b5d5-9fc7-4f0b-a5e8-e70d2a6ace71",
   "metadata": {},
   "source": [
    "## Q2. What happens when an exception is not handled? Explain with an example ?"
   ]
  },
  {
   "cell_type": "markdown",
   "id": "50ea900c-7543-466b-9a4c-296397ee804b",
   "metadata": {},
   "source": [
    "When we not handle an Exception in our code...some part of code are commpletely excuted but after error our next part of code not excuted"
   ]
  },
  {
   "cell_type": "code",
   "execution_count": 1,
   "id": "55112cf2-6ab4-49a2-81fc-ac354b829766",
   "metadata": {},
   "outputs": [
    {
     "name": "stdout",
     "output_type": "stream",
     "text": [
      "21.0\n",
      "14.0\n"
     ]
    },
    {
     "ename": "ZeroDivisionError",
     "evalue": "division by zero",
     "output_type": "error",
     "traceback": [
      "\u001b[0;31m---------------------------------------------------------------------------\u001b[0m",
      "\u001b[0;31mZeroDivisionError\u001b[0m                         Traceback (most recent call last)",
      "Cell \u001b[0;32mIn[1], line 7\u001b[0m\n\u001b[1;32m      5\u001b[0m \u001b[38;5;28mprint\u001b[39m(test(\u001b[38;5;241m2\u001b[39m))\n\u001b[1;32m      6\u001b[0m \u001b[38;5;28mprint\u001b[39m(test(\u001b[38;5;241m3\u001b[39m))\n\u001b[0;32m----> 7\u001b[0m \u001b[38;5;28mprint\u001b[39m(\u001b[43mtest\u001b[49m\u001b[43m(\u001b[49m\u001b[38;5;241;43m0\u001b[39;49m\u001b[43m)\u001b[49m)\n\u001b[1;32m      8\u001b[0m \u001b[38;5;28mprint\u001b[39m(test(\u001b[38;5;241m6\u001b[39m))\n\u001b[1;32m      9\u001b[0m \u001b[38;5;28mprint\u001b[39m(test(\u001b[38;5;241m21\u001b[39m))\n",
      "Cell \u001b[0;32mIn[1], line 3\u001b[0m, in \u001b[0;36mtest\u001b[0;34m(divideBy)\u001b[0m\n\u001b[1;32m      2\u001b[0m \u001b[38;5;28;01mdef\u001b[39;00m \u001b[38;5;21mtest\u001b[39m(divideBy) :\n\u001b[0;32m----> 3\u001b[0m     \u001b[38;5;28;01mreturn\u001b[39;00m \u001b[38;5;241;43m42\u001b[39;49m\u001b[38;5;241;43m/\u001b[39;49m\u001b[43mdivideBy\u001b[49m\n",
      "\u001b[0;31mZeroDivisionError\u001b[0m: division by zero"
     ]
    }
   ],
   "source": [
    "## eg.Exception handle\n",
    "def test(divideBy) :\n",
    "    return 42/divideBy\n",
    "\n",
    "print(test(2))\n",
    "print(test(3))\n",
    "print(test(0))\n",
    "print(test(6))\n",
    "print(test(21))"
   ]
  },
  {
   "cell_type": "code",
   "execution_count": 9,
   "id": "9214e74c-9a76-451d-bd06-032b7ab96e2d",
   "metadata": {},
   "outputs": [
    {
     "name": "stdout",
     "output_type": "stream",
     "text": [
      "21.0\n",
      "14.0\n",
      "Error ! You cant not divide by Zero --->division by zero\n",
      "7.0\n",
      "2.0\n"
     ]
    }
   ],
   "source": [
    "def test(divideBy) :\n",
    "    try :\n",
    "        return 42/divideBy\n",
    "    except ZeroDivisionError as e:\n",
    "        return (f\"Error ! You cant not divide by Zero --->{e}\")\n",
    "print(test(2))\n",
    "print(test(3))\n",
    "print(test(0))\n",
    "print(test(6))\n",
    "print(test(21))"
   ]
  },
  {
   "cell_type": "code",
   "execution_count": null,
   "id": "29de7625-3629-4c22-ae33-58bbffffcc6d",
   "metadata": {},
   "outputs": [],
   "source": []
  },
  {
   "cell_type": "markdown",
   "id": "c40e7c93-df37-4ca1-89eb-697075e10a22",
   "metadata": {},
   "source": [
    "## Q3. Which Python statements are used to catch and handle exceptions ? Explain with an example ?"
   ]
  },
  {
   "cell_type": "markdown",
   "id": "305d65c4-b577-4e4f-a493-72e127b57d30",
   "metadata": {},
   "source": [
    "Try and Except are used to catch and handle exception in python statement  "
   ]
  },
  {
   "cell_type": "code",
   "execution_count": 13,
   "id": "edff4240-5ac6-4c61-b58c-0856fa8edf3c",
   "metadata": {},
   "outputs": [],
   "source": [
    "import os \n",
    "try:\n",
    "    with open('test.txt','w') as f:\n",
    "        f.write(\"This is good time soolve assignments of pwskill\")\n",
    "        f.close()\n",
    "except OSError as e :\n",
    "     print(f\"This is OSError :{e}\")"
   ]
  },
  {
   "cell_type": "markdown",
   "id": "003d5f06-e5bf-4a6f-8c43-92b10a88c775",
   "metadata": {},
   "source": [
    "## Q4. Explain with an example:\n",
    "1.try and else  \n",
    "2.finally  \n",
    "3.raise  "
   ]
  },
  {
   "cell_type": "markdown",
   "id": "de7b88fd-0192-4a95-9121-1348c18f0114",
   "metadata": {},
   "source": [
    "1.Try and else :-----> In Python, the try block is used to wrap code that might throw an exception. The else block can be added after the try-except blocks and is executed only if the try block does not raise an exception."
   ]
  },
  {
   "cell_type": "code",
   "execution_count": 17,
   "id": "2ec03bf3-a75b-4cb2-aa92-1dc2be24c55b",
   "metadata": {},
   "outputs": [],
   "source": [
    "def test(divideBy) :\n",
    "    try :\n",
    "        result= 42/divideBy\n",
    "    except ZeroDivisionError as e:\n",
    "        return (f\"Error ! You cant not divide by Zero --->{e}\")\n",
    "    else :\n",
    "        return (f\"Finally try sucessfully completed : {result}\")\n"
   ]
  },
  {
   "cell_type": "code",
   "execution_count": 19,
   "id": "262de7f1-49f3-4e9b-8a6d-d657b75a4ff3",
   "metadata": {},
   "outputs": [
    {
     "data": {
      "text/plain": [
       "'Finally try sucessfully completed : 14.0'"
      ]
     },
     "execution_count": 19,
     "metadata": {},
     "output_type": "execute_result"
    }
   ],
   "source": [
    "test(3)"
   ]
  },
  {
   "cell_type": "markdown",
   "id": "ac46f878-a766-4ffe-bd87-d4b8330a0490",
   "metadata": {},
   "source": [
    "2.Finally-->The finally block in Python is used to define code that should be executed no matter what happens, whether an exception occurs or not"
   ]
  },
  {
   "cell_type": "code",
   "execution_count": 20,
   "id": "129ab5ab-381e-4711-b001-937214f826bb",
   "metadata": {},
   "outputs": [],
   "source": [
    "def test(divideBy) :\n",
    "    try :\n",
    "        result= 42/divideBy\n",
    "    except ZeroDivisionError as e:\n",
    "        return (f\"Error ! You cant not divide by Zero --->{e}\")\n",
    "    else :\n",
    "        return (f\"Finally try sucessfully completed : {result}\")\n",
    "    finally :\n",
    "        return (f\"Mujhe koi fark nhi padta hai\")"
   ]
  },
  {
   "cell_type": "code",
   "execution_count": 21,
   "id": "f3a69764-87c3-43f9-917e-d5b44906b4a9",
   "metadata": {},
   "outputs": [
    {
     "data": {
      "text/plain": [
       "'Mujhe koi fark nhi padta hai'"
      ]
     },
     "execution_count": 21,
     "metadata": {},
     "output_type": "execute_result"
    }
   ],
   "source": [
    "test(2)"
   ]
  },
  {
   "cell_type": "markdown",
   "id": "ad20b5f9-fb44-49da-9d94-20dff23cb531",
   "metadata": {},
   "source": [
    "3.Raise-->The raise statement in Python is used to trigger an exception manually"
   ]
  },
  {
   "cell_type": "code",
   "execution_count": 22,
   "id": "2b68d863-f954-430a-980b-3b278aa0f21a",
   "metadata": {},
   "outputs": [
    {
     "name": "stdout",
     "output_type": "stream",
     "text": [
      "Cannot divide by zero!\n"
     ]
    }
   ],
   "source": [
    "def divide(a, b):\n",
    "    if b == 0:\n",
    "        raise ValueError(\"Cannot divide by zero!\")\n",
    "    return a / b\n",
    "\n",
    "try:\n",
    "    result = divide(10, 0)\n",
    "except ValueError as e:\n",
    "    print(e)"
   ]
  },
  {
   "cell_type": "markdown",
   "id": "747d3e9b-2010-4807-9476-a8cf991b4f93",
   "metadata": {},
   "source": [
    "## Q5. What are Custom Exceptions in python? Why do we need Custom Exceptions? Explain with an example?"
   ]
  },
  {
   "cell_type": "markdown",
   "id": "7cfa6d2d-7299-4694-9501-f34a12f80c2d",
   "metadata": {},
   "source": [
    "Custom Exception are those type of exception in python which we decide according to our convention\n",
    "Custom Exception are used in python to handle exception which we decide in our code implementation..Its play very important role in python"
   ]
  },
  {
   "cell_type": "code",
   "execution_count": 23,
   "id": "b6357008-4f4a-4ef6-a101-e7b4ffd0468c",
   "metadata": {},
   "outputs": [
    {
     "name": "stdin",
     "output_type": "stream",
     "text": [
      "Enter age 12\n"
     ]
    }
   ],
   "source": [
    "age = int(input(\"Enter age\"))"
   ]
  },
  {
   "cell_type": "code",
   "execution_count": 25,
   "id": "12bab00f-d280-45ca-954d-c561f78b28cd",
   "metadata": {},
   "outputs": [],
   "source": [
    "class validateage(Exception) :\n",
    "    def __init__(self,age):\n",
    "        self.age=age"
   ]
  },
  {
   "cell_type": "code",
   "execution_count": 26,
   "id": "c3456a5e-b536-479a-a6cd-e88998273468",
   "metadata": {},
   "outputs": [],
   "source": [
    "def validate_age(age):\n",
    "    if age<0:\n",
    "        raise validateage(\"Entered age is negative\")\n",
    "    elif age>200:\n",
    "        raise validateage(\"Entered age is very very high\")\n",
    "    else :\n",
    "        print(\"Age is valid\")"
   ]
  },
  {
   "cell_type": "code",
   "execution_count": 28,
   "id": "e3583dc3-ea96-49b8-a89a-89bdbe6a388a",
   "metadata": {},
   "outputs": [
    {
     "name": "stdin",
     "output_type": "stream",
     "text": [
      "Enter age -34\n"
     ]
    },
    {
     "name": "stdout",
     "output_type": "stream",
     "text": [
      "Entered age is negative\n"
     ]
    }
   ],
   "source": [
    "try :\n",
    "    age = int(input(\"Enter age\"))\n",
    "    validate_age(age)\n",
    "    \n",
    "except validateage as e:\n",
    "    print(e)"
   ]
  },
  {
   "cell_type": "code",
   "execution_count": null,
   "id": "f94a1e68-9903-4d10-b765-19eee1726c4b",
   "metadata": {},
   "outputs": [],
   "source": []
  },
  {
   "cell_type": "markdown",
   "id": "26c11864-b0db-49e4-bbee-05b49046b505",
   "metadata": {},
   "source": [
    "## Q6. Create  custom exception class. Use this class to handle an exception."
   ]
  },
  {
   "cell_type": "code",
   "execution_count": 29,
   "id": "3829c79c-cfe1-4c7a-aa5c-6e4e970611b8",
   "metadata": {},
   "outputs": [],
   "source": [
    "class validateage(Exception) :\n",
    "    def __init__(self,age):\n",
    "        self.age=age"
   ]
  },
  {
   "cell_type": "code",
   "execution_count": 30,
   "id": "686eccc6-b3d8-4bf4-adca-9a1b9d0d7322",
   "metadata": {},
   "outputs": [],
   "source": [
    "def validate_age(age):\n",
    "    if age<0:\n",
    "        raise validateage(\"Entered age is negative\")\n",
    "    elif age>200:\n",
    "        raise validateage(\"Entered age is very very high\")\n",
    "    else :\n",
    "        print(\"Age is valid\")"
   ]
  },
  {
   "cell_type": "code",
   "execution_count": 31,
   "id": "711e9133-7aaf-4d0a-a5b2-8d70b76dd7dd",
   "metadata": {},
   "outputs": [
    {
     "name": "stdin",
     "output_type": "stream",
     "text": [
      "Enter age 2000\n"
     ]
    },
    {
     "name": "stdout",
     "output_type": "stream",
     "text": [
      "Entered age is very very high\n"
     ]
    }
   ],
   "source": [
    "try :\n",
    "    age = int(input(\"Enter age\"))\n",
    "    validate_age(age)\n",
    "    \n",
    "except validateage as e:\n",
    "    print(e)"
   ]
  },
  {
   "cell_type": "code",
   "execution_count": null,
   "id": "02cf8057-50fc-4a3e-8612-2b961f066311",
   "metadata": {},
   "outputs": [],
   "source": []
  }
 ],
 "metadata": {
  "kernelspec": {
   "display_name": "Python 3 (ipykernel)",
   "language": "python",
   "name": "python3"
  },
  "language_info": {
   "codemirror_mode": {
    "name": "ipython",
    "version": 3
   },
   "file_extension": ".py",
   "mimetype": "text/x-python",
   "name": "python",
   "nbconvert_exporter": "python",
   "pygments_lexer": "ipython3",
   "version": "3.10.8"
  }
 },
 "nbformat": 4,
 "nbformat_minor": 5
}
