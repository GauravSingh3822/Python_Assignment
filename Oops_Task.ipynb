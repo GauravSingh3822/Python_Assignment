{
 "cells": [
  {
   "cell_type": "markdown",
   "id": "5e3b7263-7c3a-4309-9f59-5187489dd6e2",
   "metadata": {},
   "source": [
    "Q1.Create a vehicle class with an init method having instance variables as name_of_vehicle, max_speed -->\n",
    "and average_of_vehicle.  \n",
    "Q2.Create a child class car from the vehicle class created in Que 1, which will inherit the vehicle class.\n",
    "Create a method named seating_capacity which takes capacity as an argument and returns the name of\n",
    "the vehicle and its seating capacity.  \n",
    "Q3.What is multiple inheritance? Write a python code to demonstrate multiple inheritance.  \n",
    "Q4.What are getter and setter in python? Create a class and create a getter and a setter method in this\n",
    "class.  \n",
    "Q5.What is method overriding in python? Write a python code to demonstrate method overriding.  "
   ]
  },
  {
   "cell_type": "markdown",
   "id": "b8fa32c4-a2cc-4299-a36c-d3e99e1de179",
   "metadata": {},
   "source": [
    "# Q1.Create a vehicle class with an init method having instance variables as name_of_vehicle, max_speed and average_of_vehicle."
   ]
  },
  {
   "cell_type": "code",
   "execution_count": 1,
   "id": "febd63cb-60b0-45a1-b804-4c076a898288",
   "metadata": {},
   "outputs": [],
   "source": [
    "class Vehicle_Class :\n",
    "    def __init__(self,name_of_vehicle,max_speed,average_of_vehicle):\n",
    "        self.name_of_vehicle=name_of_vehicle\n",
    "        self.max_speed=max_speed\n",
    "        self.average_of_vehicle=average_of_vehicle\n",
    "    \n",
    "    def return_vehcile_details(self):\n",
    "        return self.name_of_vehicle,self.max_speed,self.average_of_vehicle"
   ]
  },
  {
   "cell_type": "code",
   "execution_count": 2,
   "id": "33eddec5-5220-4f88-b551-8e9e8a0a3673",
   "metadata": {},
   "outputs": [],
   "source": [
    "Vehicle=Vehicle_Class('Aulto',180,15)"
   ]
  },
  {
   "cell_type": "code",
   "execution_count": 3,
   "id": "d5cf8c6f-4a8f-4c47-95e4-dd0b6dad634e",
   "metadata": {},
   "outputs": [
    {
     "data": {
      "text/plain": [
       "'Aulto'"
      ]
     },
     "execution_count": 3,
     "metadata": {},
     "output_type": "execute_result"
    }
   ],
   "source": [
    "Vehicle.name_of_vehicle"
   ]
  },
  {
   "cell_type": "code",
   "execution_count": 4,
   "id": "6a2b036a-e5dd-4ced-89a8-fd5d06e19e15",
   "metadata": {},
   "outputs": [
    {
     "data": {
      "text/plain": [
       "180"
      ]
     },
     "execution_count": 4,
     "metadata": {},
     "output_type": "execute_result"
    }
   ],
   "source": [
    "Vehicle.max_speed"
   ]
  },
  {
   "cell_type": "code",
   "execution_count": 5,
   "id": "5bcc00aa-b5fb-462c-8f76-3ca91a1145c7",
   "metadata": {},
   "outputs": [
    {
     "data": {
      "text/plain": [
       "15"
      ]
     },
     "execution_count": 5,
     "metadata": {},
     "output_type": "execute_result"
    }
   ],
   "source": [
    "Vehicle.average_of_vehicle"
   ]
  },
  {
   "cell_type": "markdown",
   "id": "98c7fd87-0ba9-49d5-af57-1ae4dec83a8f",
   "metadata": {},
   "source": [
    "# Q2.Create a child class car from the vehicle class created in Que 1, which will inherit the vehicle class.Create a method named seating_capacity which takes capacity as an argument and returns the name ofthe vehicle and its seating capacity. "
   ]
  },
  {
   "cell_type": "code",
   "execution_count": 6,
   "id": "5b157330-fb47-4a1f-8978-54a33bd26bd5",
   "metadata": {},
   "outputs": [],
   "source": [
    "class child_class_car(Vehicle_Class) :\n",
    "    def seating_capacity(self) :\n",
    "        return \"Seat Capacity is 5\"\n",
    "     "
   ]
  },
  {
   "cell_type": "code",
   "execution_count": 16,
   "id": "a5f866a2-1884-409e-b15d-6c6eac59c217",
   "metadata": {},
   "outputs": [],
   "source": [
    "child_car=child_class_car(\"Aulto\",160,25)"
   ]
  },
  {
   "cell_type": "code",
   "execution_count": 17,
   "id": "94e434fd-ac17-425a-ad26-fa18c9142f4e",
   "metadata": {},
   "outputs": [
    {
     "data": {
      "text/plain": [
       "'Aulto'"
      ]
     },
     "execution_count": 17,
     "metadata": {},
     "output_type": "execute_result"
    }
   ],
   "source": [
    "child_car.name_of_vehicle"
   ]
  },
  {
   "cell_type": "code",
   "execution_count": 18,
   "id": "0a00147b-2b74-4a5b-aa38-1b467f27016f",
   "metadata": {},
   "outputs": [
    {
     "data": {
      "text/plain": [
       "160"
      ]
     },
     "execution_count": 18,
     "metadata": {},
     "output_type": "execute_result"
    }
   ],
   "source": [
    "child_car.max_speed"
   ]
  },
  {
   "cell_type": "code",
   "execution_count": 19,
   "id": "d02989a4-01c6-4d2f-a267-4654f23784db",
   "metadata": {},
   "outputs": [
    {
     "data": {
      "text/plain": [
       "'Seat Capacity is 5'"
      ]
     },
     "execution_count": 19,
     "metadata": {},
     "output_type": "execute_result"
    }
   ],
   "source": [
    "child_car.seating_capacity()"
   ]
  },
  {
   "cell_type": "markdown",
   "id": "dca9ed04-2b2f-464c-9506-2ffaca85161a",
   "metadata": {},
   "source": [
    "# Q3.What is multiple inheritance? Write a python code to demonstrate multiple inheritance."
   ]
  },
  {
   "cell_type": "markdown",
   "id": "fff6838c-0f2f-441a-a6fa-a5243ffba8ca",
   "metadata": {},
   "source": [
    "Multiple Inheritance-if class(C) inherit property from both class(A) and Class(B) Then this type of inheritance is know as muktiple inheritance"
   ]
  },
  {
   "cell_type": "code",
   "execution_count": 32,
   "id": "4a1d9c49-f3b2-4f05-bc15-b26076318852",
   "metadata": {},
   "outputs": [],
   "source": [
    "class A:\n",
    "    def class_A(self):\n",
    "        return 'ABC'\n",
    "   "
   ]
  },
  {
   "cell_type": "code",
   "execution_count": 33,
   "id": "f9cc17b5-0e34-448c-a748-ca9a5cde9421",
   "metadata": {},
   "outputs": [],
   "source": [
    "class B:\n",
    "    def class_B(self):\n",
    "        return 'DEF'"
   ]
  },
  {
   "cell_type": "code",
   "execution_count": 34,
   "id": "e4fa5e55-4433-4978-944f-f10612ed0912",
   "metadata": {},
   "outputs": [],
   "source": [
    "class C(A,B):\n",
    "    def class_C(self):\n",
    "        return 'GHI'\n",
    "    \n"
   ]
  },
  {
   "cell_type": "code",
   "execution_count": 35,
   "id": "4c2ddd19-2800-43ef-9269-45c0aa6bb61a",
   "metadata": {},
   "outputs": [],
   "source": [
    "multi_inherit = C()"
   ]
  },
  {
   "cell_type": "code",
   "execution_count": 36,
   "id": "a8dc0823-98a9-4804-b1b6-c113248c7f80",
   "metadata": {},
   "outputs": [
    {
     "data": {
      "text/plain": [
       "'ABC'"
      ]
     },
     "execution_count": 36,
     "metadata": {},
     "output_type": "execute_result"
    }
   ],
   "source": [
    "multi_inherit.class_A()"
   ]
  },
  {
   "cell_type": "code",
   "execution_count": 37,
   "id": "1f3f76e8-9ddb-46c6-9089-b0e8b7a414ac",
   "metadata": {},
   "outputs": [
    {
     "data": {
      "text/plain": [
       "'DEF'"
      ]
     },
     "execution_count": 37,
     "metadata": {},
     "output_type": "execute_result"
    }
   ],
   "source": [
    "multi_inherit.class_B()"
   ]
  },
  {
   "cell_type": "code",
   "execution_count": 38,
   "id": "2486338c-f9b3-4f95-96fd-12a62acebce7",
   "metadata": {},
   "outputs": [
    {
     "data": {
      "text/plain": [
       "'GHI'"
      ]
     },
     "execution_count": 38,
     "metadata": {},
     "output_type": "execute_result"
    }
   ],
   "source": [
    "multi_inherit.class_C()"
   ]
  },
  {
   "cell_type": "markdown",
   "id": "4e9fb2e7-3c96-48cc-9aa9-e81fee47e7c7",
   "metadata": {},
   "source": [
    "# Q4.What are getter and setter in python? Create a class and create a getter and a setter method in this class. "
   ]
  },
  {
   "cell_type": "markdown",
   "id": "c0dc6ace-e4b8-4abe-8942-dd1a7b89388b",
   "metadata": {},
   "source": [
    "Getters and Setters are methods used to access and modify the attributes of a class. They provide a way to control how attributes are accessed and updated, which can be useful for validation, encapsulation, or simply controlling the access to certain variables."
   ]
  },
  {
   "cell_type": "code",
   "execution_count": 52,
   "id": "23bd1d4c-9d82-4a21-a408-d3ad368a9396",
   "metadata": {},
   "outputs": [],
   "source": [
    "class Person :\n",
    "    def __init__(self,name,age):\n",
    "        self.name=name\n",
    "        self._age=age\n",
    "        \n",
    "    ## Getter meathod access the age\n",
    "    @property\n",
    "    def get_age(self):\n",
    "        return self._age\n",
    "    \n",
    "    @get_age.setter\n",
    "    # Setter method for 'age'\n",
    "    def set_age(self, age):\n",
    "        if age >= 0:  # Basic validation to ensure age is not negative\n",
    "            self._age = age\n",
    "        else:\n",
    "            raise ValueError(\"Age cannot be negative\")\n"
   ]
  },
  {
   "cell_type": "code",
   "execution_count": 55,
   "id": "ab6754f4-5709-41db-8224-c8c4f6d4be6a",
   "metadata": {},
   "outputs": [],
   "source": [
    "person=Person('Gaurav',26)"
   ]
  },
  {
   "cell_type": "markdown",
   "id": "6200bbbf-6ec3-433b-a004-8a724b32fec0",
   "metadata": {},
   "source": [
    "## Q5.What is method overriding in python? Write a python code to demonstrate method overriding."
   ]
  },
  {
   "cell_type": "code",
   "execution_count": null,
   "id": "4af6c3bb-7731-440c-81a2-ce0dc48007ba",
   "metadata": {},
   "outputs": [],
   "source": [
    "## Method Overriding in python "
   ]
  }
 ],
 "metadata": {
  "kernelspec": {
   "display_name": "Python 3 (ipykernel)",
   "language": "python",
   "name": "python3"
  },
  "language_info": {
   "codemirror_mode": {
    "name": "ipython",
    "version": 3
   },
   "file_extension": ".py",
   "mimetype": "text/x-python",
   "name": "python",
   "nbconvert_exporter": "python",
   "pygments_lexer": "ipython3",
   "version": "3.10.8"
  }
 },
 "nbformat": 4,
 "nbformat_minor": 5
}
