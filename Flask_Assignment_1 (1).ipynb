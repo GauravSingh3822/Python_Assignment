{
 "cells": [
  {
   "cell_type": "code",
   "execution_count": null,
   "id": "411e4489-29a2-4c52-abef-c8edfdf03050",
   "metadata": {},
   "outputs": [],
   "source": [
    "\n",
    "\n",
    "\n",
    "\n",
    "Attach the screenshot of the output in Jupyter Notebook.\n"
   ]
  },
  {
   "cell_type": "markdown",
   "id": "f5b5057b-f59e-4e14-856b-eef5d7a97ddb",
   "metadata": {},
   "source": [
    "# Q1. What is Flask Framework? What are the advantages of Flask Framework?"
   ]
  },
  {
   "cell_type": "markdown",
   "id": "b4270013-7c49-46f0-b05a-a3735ec68985",
   "metadata": {},
   "source": [
    "## Flask is a Pythonic Library which is useful for developing the APi to connect or expose the method from outer worlds\n",
    "## Advantage \n",
    "1.Easy to learn and use  \n",
    "2.Flexible  \n",
    "3.Extensible  \n",
    "4.Scability"
   ]
  },
  {
   "cell_type": "markdown",
   "id": "ea08ba4d-d6b1-47c0-a802-92c974cdef55",
   "metadata": {},
   "source": [
    "# Q2. Create a simple Flask application to display ‘Hello World!!’. Attach the screenshot of the output in Jupyter Notebook."
   ]
  },
  {
   "cell_type": "code",
   "execution_count": 3,
   "id": "85152a7d-d29d-45e2-a713-54bc0788bebe",
   "metadata": {},
   "outputs": [
    {
     "name": "stdout",
     "output_type": "stream",
     "text": [
      "Collecting flask\n",
      "  Downloading flask-3.0.3-py3-none-any.whl (101 kB)\n",
      "\u001b[2K     \u001b[90m━━━━━━━━━━━━━━━━━━━━━━━━━━━━━━━━━━━━━━━\u001b[0m \u001b[32m101.7/101.7 kB\u001b[0m \u001b[31m3.2 MB/s\u001b[0m eta \u001b[36m0:00:00\u001b[0m\n",
      "\u001b[?25hCollecting itsdangerous>=2.1.2\n",
      "  Downloading itsdangerous-2.2.0-py3-none-any.whl (16 kB)\n",
      "Collecting blinker>=1.6.2\n",
      "  Downloading blinker-1.8.2-py3-none-any.whl (9.5 kB)\n",
      "Collecting Werkzeug>=3.0.0\n",
      "  Downloading werkzeug-3.0.4-py3-none-any.whl (227 kB)\n",
      "\u001b[2K     \u001b[90m━━━━━━━━━━━━━━━━━━━━━━━━━━━━━━━━━━━━━━\u001b[0m \u001b[32m227.6/227.6 kB\u001b[0m \u001b[31m18.0 MB/s\u001b[0m eta \u001b[36m0:00:00\u001b[0m\n",
      "\u001b[?25hRequirement already satisfied: click>=8.1.3 in /opt/conda/lib/python3.10/site-packages (from flask) (8.1.3)\n",
      "Requirement already satisfied: Jinja2>=3.1.2 in /opt/conda/lib/python3.10/site-packages (from flask) (3.1.2)\n",
      "Requirement already satisfied: MarkupSafe>=2.0 in /opt/conda/lib/python3.10/site-packages (from Jinja2>=3.1.2->flask) (2.1.1)\n",
      "Installing collected packages: Werkzeug, itsdangerous, blinker, flask\n",
      "  Attempting uninstall: blinker\n",
      "    Found existing installation: blinker 1.5\n",
      "    Uninstalling blinker-1.5:\n",
      "      Successfully uninstalled blinker-1.5\n",
      "Successfully installed Werkzeug-3.0.4 blinker-1.8.2 flask-3.0.3 itsdangerous-2.2.0\n"
     ]
    }
   ],
   "source": [
    "!pip install flask"
   ]
  },
  {
   "cell_type": "code",
   "execution_count": 4,
   "id": "e2cfdb58-d84f-4a38-bf95-106d365888b8",
   "metadata": {},
   "outputs": [
    {
     "name": "stdout",
     "output_type": "stream",
     "text": [
      " * Serving Flask app '__main__'\n",
      " * Debug mode: off\n"
     ]
    },
    {
     "name": "stderr",
     "output_type": "stream",
     "text": [
      "WARNING: This is a development server. Do not use it in a production deployment. Use a production WSGI server instead.\n",
      " * Running on all addresses (0.0.0.0)\n",
      " * Running on http://127.0.0.1:5000\n",
      " * Running on http://172.18.0.84:5000\n",
      "Press CTRL+C to quit\n",
      "172.18.0.18 - - [04/Sep/2024 16:33:21] \"GET / HTTP/1.1\" 200 -\n",
      "172.18.0.18 - - [04/Sep/2024 16:33:21] \"GET /favicon.ico HTTP/1.1\" 404 -\n"
     ]
    }
   ],
   "source": [
    "from flask import Flask\n",
    "app=Flask(__name__)\n",
    "@app.route(\"/\")\n",
    "def hello_world():\n",
    "    return \"<h1>Hello, World!</h1>\"\n",
    "\n",
    "if __name__==\"__main__\":\n",
    "    app.run(host=\"0.0.0.0\")\n"
   ]
  },
  {
   "cell_type": "markdown",
   "id": "04ee89cc-e10e-449e-bc0e-ef9ed2318eea",
   "metadata": {},
   "source": [
    "# Q3. What is App routing in Flask? Why do we use app routes?"
   ]
  },
  {
   "cell_type": "markdown",
   "id": "c9e9c02e-83bd-4ff3-b4aa-fb818752495d",
   "metadata": {},
   "source": [
    "### App routing in Flask refers to the mechanism of mapping URLs to specific functions in your web application. It involves defining the routes (paths) that users can visit and what actions (functions) will be executed when those routes are accessed.\n",
    "\n",
    "### In Flask, we define routes using the @app.route() decorator, which binds a URL pattern to a function. For example, if we have a function that should be triggered when someone visits the homepage (/), you can use @app.route('/') to map the root URL to that function."
   ]
  },
  {
   "cell_type": "markdown",
   "id": "69a56d07-315b-4c41-8c40-5e48357f2f53",
   "metadata": {},
   "source": [
    "# Q4. Create a “/welcome” route to display the welcome message “Welcome to ABC Corporation” and a “/”route to show the following details:\n",
    "## Company Name: ABC Corporation\n",
    "## Location: India\n",
    "## Contact Detail: 999-999-9999"
   ]
  },
  {
   "cell_type": "code",
   "execution_count": 8,
   "id": "ea42cd6d-e44f-4250-9539-825ee46311da",
   "metadata": {},
   "outputs": [
    {
     "name": "stdout",
     "output_type": "stream",
     "text": [
      " * Serving Flask app '__main__'\n",
      " * Debug mode: off\n"
     ]
    },
    {
     "name": "stderr",
     "output_type": "stream",
     "text": [
      "WARNING: This is a development server. Do not use it in a production deployment. Use a production WSGI server instead.\n",
      " * Running on all addresses (0.0.0.0)\n",
      " * Running on http://127.0.0.1:5000\n",
      " * Running on http://172.18.0.84:5000\n",
      "Press CTRL+C to quit\n",
      "172.18.0.18 - - [04/Sep/2024 16:50:05] \"GET /a HTTP/1.1\" 200 -\n"
     ]
    }
   ],
   "source": [
    "from flask import Flask\n",
    "app=Flask(__name__)\n",
    "@app.route(\"/welcome\")\n",
    "def message():\n",
    "    return \"<h1>Welcome to ABC Corporation</h1>\"\n",
    "\n",
    "@app.route(\"/a\")\n",
    "def details():\n",
    "    return \"<h1>Company Name: ABC Corporation,Location: India,Contact Detail: 999-999-9999</h1>\"\n",
    "\n",
    "if __name__==\"__main__\":\n",
    "    app.run(host=\"0.0.0.0\")"
   ]
  },
  {
   "cell_type": "markdown",
   "id": "fc08dd24-ab33-4565-a9ff-7842079c07e7",
   "metadata": {},
   "source": [
    "# Q5. What function is used in Flask for URL Building? Write a Python code to demonstrate the working of the url_for() function."
   ]
  },
  {
   "cell_type": "markdown",
   "id": "ebb525e0-c36f-459e-9f91-a57baff5705d",
   "metadata": {},
   "source": [
    "## In Flask, the url_for() function is used for URL building."
   ]
  },
  {
   "cell_type": "code",
   "execution_count": null,
   "id": "154c223a-4aaa-4e2b-803e-dd7b31a5f1bb",
   "metadata": {},
   "outputs": [],
   "source": [
    "rom flask import Flask, url_for, redirect\n",
    "\n",
    "app = Flask(__name__)\n",
    "\n",
    "# Define a route for the homepage\n",
    "@app.route('/')\n",
    "def home():\n",
    "    # Generating URL for the 'about' function\n",
    "    about_url = url_for('about')\n",
    "    return f\"Homepage. Go to the <a href='{about_url}'>About Page</a>.\"\n",
    "\n",
    "# Define a route for the about page\n",
    "@app.route('/about')\n",
    "def about():\n",
    "    return \"This is the About page.\"\n",
    "\n",
    "# Define a route that uses url_for to redirect to the homepage\n",
    "@app.route('/go-home')\n",
    "def go_home():\n",
    "    # Redirect to the home function using url_for\n",
    "    return redirect(url_for('home'))\n",
    "\n",
    "if __name__ == '__main__':\n",
    "    app.run(debug=True)"
   ]
  }
 ],
 "metadata": {
  "kernelspec": {
   "display_name": "Python 3 (ipykernel)",
   "language": "python",
   "name": "python3"
  },
  "language_info": {
   "codemirror_mode": {
    "name": "ipython",
    "version": 3
   },
   "file_extension": ".py",
   "mimetype": "text/x-python",
   "name": "python",
   "nbconvert_exporter": "python",
   "pygments_lexer": "ipython3",
   "version": "3.10.8"
  }
 },
 "nbformat": 4,
 "nbformat_minor": 5
}
