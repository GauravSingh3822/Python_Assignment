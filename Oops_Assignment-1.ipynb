{
 "cells": [
  {
   "cell_type": "markdown",
   "id": "a5ad23b4-d6a2-4f36-9642-b6c62da45959",
   "metadata": {},
   "source": [
    "## Q1. Explain Class and Object with respect to Object-Oriented Programming. Give a suitable example."
   ]
  },
  {
   "cell_type": "code",
   "execution_count": 1,
   "id": "7b07cec7-c4e5-4eb0-b987-f9964fd2528c",
   "metadata": {},
   "outputs": [],
   "source": [
    "## Class is  a blueprint or skelton of objects or class defined the nature of objects in case of oops\n",
    "## Objects is instance of class or objects is real world entity ..Objects is also know as varible organisation"
   ]
  },
  {
   "cell_type": "code",
   "execution_count": 4,
   "id": "574e8444-77f1-4b1b-9c7d-725d2b3eb2b0",
   "metadata": {},
   "outputs": [],
   "source": [
    "class  Animal :\n",
    "    def __init__(self,name) :\n",
    "        self.name=name\n",
    "        \n",
    "    def eat(self):\n",
    "        print(f\"{self.name} is eating\")"
   ]
  },
  {
   "cell_type": "code",
   "execution_count": 5,
   "id": "e2d0b878-0fc0-4fcf-82dd-4fc02a4e1993",
   "metadata": {},
   "outputs": [],
   "source": [
    "dog=Animal(\"Tommy\")"
   ]
  },
  {
   "cell_type": "code",
   "execution_count": 6,
   "id": "22e21ecd-b170-41d1-ad9e-8a3dc734f7c2",
   "metadata": {},
   "outputs": [
    {
     "name": "stdout",
     "output_type": "stream",
     "text": [
      "Tommy is eating\n"
     ]
    }
   ],
   "source": [
    "dog.eat()"
   ]
  },
  {
   "cell_type": "markdown",
   "id": "19f55aa8-140c-4b59-9472-d774b2545615",
   "metadata": {},
   "source": [
    "## Q2. Name the four pillars of OOPs."
   ]
  },
  {
   "cell_type": "markdown",
   "id": "c2551567-ae0c-42d0-a1ee-3b932aae5a51",
   "metadata": {},
   "source": [
    "### Four pillars of Object Oriented Programming  \n",
    "### 1.Polymorphism  \n",
    "### 2.Encapsulation  \n",
    "### 3.Inheritance  \n",
    "### 4.Abstraction  "
   ]
  },
  {
   "cell_type": "markdown",
   "id": "5b15884a-fdb3-4b87-88dd-cee5433bdd9d",
   "metadata": {},
   "source": [
    "## Q3. Explain why the __init__() function is used. Give a suitable example."
   ]
  },
  {
   "cell_type": "markdown",
   "id": "04decb7e-7460-4721-b0ed-a6723d058e06",
   "metadata": {},
   "source": [
    "### If we want pass data inside the class then in that suitatin we use inbult function knowns as (__init__) .It is like a constructor in out python programming"
   ]
  },
  {
   "cell_type": "code",
   "execution_count": 8,
   "id": "b0ec6be3-f509-486f-9e95-7c91ce7d2136",
   "metadata": {},
   "outputs": [],
   "source": [
    "class Car :\n",
    "    def __init__(self,name,model_number):\n",
    "        self.name=name\n",
    "        self.model_number=model_number\n",
    "        \n",
    "    def return_car_details(self) :\n",
    "        return self.name,self.model_number"
   ]
  },
  {
   "cell_type": "code",
   "execution_count": 10,
   "id": "81ccb36d-b8a0-4101-81fd-399dac862333",
   "metadata": {},
   "outputs": [],
   "source": [
    "Aulto=Car(\"Maruti9\",1123456)"
   ]
  },
  {
   "cell_type": "code",
   "execution_count": 12,
   "id": "ff2f3e66-ae45-4f07-8856-238cee1f2fe6",
   "metadata": {},
   "outputs": [
    {
     "data": {
      "text/plain": [
       "('Maruti9', 1123456)"
      ]
     },
     "execution_count": 12,
     "metadata": {},
     "output_type": "execute_result"
    }
   ],
   "source": [
    "Aulto.return_car_details()"
   ]
  },
  {
   "cell_type": "markdown",
   "id": "898e6950-8307-41a1-bdba-1aaa8b341a79",
   "metadata": {},
   "source": [
    "## Q4. Why self is used in OOPs?"
   ]
  },
  {
   "cell_type": "markdown",
   "id": "24550d2f-fb9f-44d6-a4b3-8961c5ba858f",
   "metadata": {},
   "source": [
    "### Self is a reference to the current instance of the class.It is used to access variables and methods that belong to the class and to differentiate between instance attributes and local variables"
   ]
  },
  {
   "cell_type": "markdown",
   "id": "024fcb24-646e-43d4-a6cb-89a729db231f",
   "metadata": {},
   "source": [
    "## Q5. What is inheritance? Give an example for each type of inheritance."
   ]
  },
  {
   "cell_type": "markdown",
   "id": "e8297dd5-05d0-449b-a587-dd770b326647",
   "metadata": {},
   "source": [
    "### Inheritance means inherit the some important property/Feature from Ancenstor or Parent Class\n",
    "1.Single Inheritance  \n",
    "2.Multiple Inheritance    \n",
    "3.Multilevel Inheritance  \n",
    "4.Hybrid Inheritance  \n",
    "5.Hierarchical Inheritance  "
   ]
  },
  {
   "cell_type": "code",
   "execution_count": null,
   "id": "b5e7d9d9-7eaf-48df-8ab5-bdad18da4604",
   "metadata": {},
   "outputs": [],
   "source": []
  }
 ],
 "metadata": {
  "kernelspec": {
   "display_name": "Python 3 (ipykernel)",
   "language": "python",
   "name": "python3"
  },
  "language_info": {
   "codemirror_mode": {
    "name": "ipython",
    "version": 3
   },
   "file_extension": ".py",
   "mimetype": "text/x-python",
   "name": "python",
   "nbconvert_exporter": "python",
   "pygments_lexer": "ipython3",
   "version": "3.10.8"
  }
 },
 "nbformat": 4,
 "nbformat_minor": 5
}
