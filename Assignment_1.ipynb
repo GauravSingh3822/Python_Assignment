{
  "nbformat": 4,
  "nbformat_minor": 0,
  "metadata": {
    "colab": {
      "provenance": [],
      "authorship_tag": "ABX9TyNIMjTgJZujBjSpjpAStv96",
      "include_colab_link": true
    },
    "kernelspec": {
      "name": "python3",
      "display_name": "Python 3"
    },
    "language_info": {
      "name": "python"
    }
  },
  "cells": [
    {
      "cell_type": "markdown",
      "metadata": {
        "id": "view-in-github",
        "colab_type": "text"
      },
      "source": [
        "<a href=\"https://colab.research.google.com/github/GauravSingh3822/Python_Assignment/blob/main/Assignment_1.ipynb\" target=\"_parent\"><img src=\"https://colab.research.google.com/assets/colab-badge.svg\" alt=\"Open In Colab\"/></a>"
      ]
    },
    {
      "cell_type": "markdown",
      "source": [
        " ## Q1. Create one variable containing following type of data:\n",
        " (i)\tstring\n",
        " (ii)\tlist\n",
        " (iii)\tfloat\n",
        " (iv)\ttuple\n",
        " ## Q2. Given are some following variables containing data:\n",
        " (i)\tvar1 = ‘ ‘\n",
        " (ii)\tvar2 = ‘[ DS , ML , Python]’\n",
        " (iii)\tvar3 = [ ‘DS’ , ’ML’ , ‘Python’ ]\n",
        " (iv)\tvar4 = 1.\n",
        " What will be the data type of the above given variable.\n",
        " ## Q3. Explain the use of the following operators using an example:\n",
        " (i)\t/\n",
        " (ii)\t%\n",
        "(iii)\t//\n",
        " (iv)\t**\n",
        " ## Q4. Create a list of length 10 of your choice containing multiple types of data. Using for loop print the\n",
        "element and its data type.\n",
        " ## Q5. Using a while loop, verify if the number A is purely divisible by number B and if so then how many\n",
        "times it can be divisible.\n",
        " ## Q6. Create a list containing 25 int type data. Using for loop and if-else condition print if the element is\n",
        "divisible by 3 or not.\n",
        " ## Q7. What do you understand about mutable and immutable data types? Give examples for both showing\n",
        "this property"
      ],
      "metadata": {
        "id": "sJlGynUZIPyS"
      }
    },
    {
      "cell_type": "code",
      "source": [],
      "metadata": {
        "id": "2BdlI1xKLjoS"
      },
      "execution_count": null,
      "outputs": []
    },
    {
      "cell_type": "code",
      "execution_count": 3,
      "metadata": {
        "id": "g84K2ZR9IPKp"
      },
      "outputs": [],
      "source": [
        "## Q1. Create one variable containing following type of data:\n",
        "## (i) string (ii) list (iii) float (iv) tuple\n",
        "\n",
        "a=\"Gaurav\"\n",
        "b=[1,2,3,4,5,'Gaurav',34.56,'PWskills']\n",
        "c=34.56\n",
        "d=(1,2,3,4,5,6)"
      ]
    },
    {
      "cell_type": "code",
      "source": [
        "a,b,c,d"
      ],
      "metadata": {
        "colab": {
          "base_uri": "https://localhost:8080/"
        },
        "id": "qjUvYyiMJDIG",
        "outputId": "92f83743-32bd-4765-e52f-07aa517d76d3"
      },
      "execution_count": 4,
      "outputs": [
        {
          "output_type": "execute_result",
          "data": {
            "text/plain": [
              "('Gaurav',\n",
              " [1, 2, 3, 4, 5, 'Gaurav', 34.56, 'PWskills'],\n",
              " 34.56,\n",
              " (1, 2, 3, 4, 5, 6))"
            ]
          },
          "metadata": {},
          "execution_count": 4
        }
      ]
    },
    {
      "cell_type": "code",
      "source": [
        "##Q2. Given are some following variables containing data:\n",
        "var1 = ' '\n",
        "var2 = '[ DS , ML , Python]'\n",
        "var3 = [ 'DS' , 'ML' , 'Python' ]\n",
        "var4 = 1.\n",
        "## What will be the data type of the above given variable.\n",
        "type(var1)\n"
      ],
      "metadata": {
        "colab": {
          "base_uri": "https://localhost:8080/"
        },
        "id": "IbtJC4g0JWaS",
        "outputId": "b17d9edb-1242-43b9-9be6-4393e638763d"
      },
      "execution_count": 10,
      "outputs": [
        {
          "output_type": "execute_result",
          "data": {
            "text/plain": [
              "str"
            ]
          },
          "metadata": {},
          "execution_count": 10
        }
      ]
    },
    {
      "cell_type": "code",
      "source": [
        "type(var2)\n"
      ],
      "metadata": {
        "colab": {
          "base_uri": "https://localhost:8080/"
        },
        "id": "JhyrjU4QJXLr",
        "outputId": "74136a2f-0568-4034-86f8-405bb5edc25b"
      },
      "execution_count": 11,
      "outputs": [
        {
          "output_type": "execute_result",
          "data": {
            "text/plain": [
              "str"
            ]
          },
          "metadata": {},
          "execution_count": 11
        }
      ]
    },
    {
      "cell_type": "code",
      "source": [
        "type(var3)\n"
      ],
      "metadata": {
        "colab": {
          "base_uri": "https://localhost:8080/"
        },
        "id": "hVzUQzBwJXPA",
        "outputId": "3a3fb421-fe67-460a-be2d-c0ebdce311d9"
      },
      "execution_count": 12,
      "outputs": [
        {
          "output_type": "execute_result",
          "data": {
            "text/plain": [
              "list"
            ]
          },
          "metadata": {},
          "execution_count": 12
        }
      ]
    },
    {
      "cell_type": "code",
      "source": [
        "type(var4)"
      ],
      "metadata": {
        "colab": {
          "base_uri": "https://localhost:8080/"
        },
        "id": "rDJuZRMhJXSf",
        "outputId": "4c7c0333-79f1-4051-e4b0-381572230bbd"
      },
      "execution_count": 13,
      "outputs": [
        {
          "output_type": "execute_result",
          "data": {
            "text/plain": [
              "float"
            ]
          },
          "metadata": {},
          "execution_count": 13
        }
      ]
    },
    {
      "cell_type": "code",
      "source": [
        "#Q3. Explain the use of the following operators using an example:\n",
        "## (i) / (ii) % (iii) // (iv) **"
      ],
      "metadata": {
        "id": "kgMBA0eyLCvB"
      },
      "execution_count": null,
      "outputs": []
    },
    {
      "cell_type": "code",
      "source": [
        "a=5/2\n",
        "a"
      ],
      "metadata": {
        "colab": {
          "base_uri": "https://localhost:8080/"
        },
        "id": "iA7TxVdkLCyp",
        "outputId": "1b6091ce-5946-432a-f906-ca0280ae57ea"
      },
      "execution_count": 15,
      "outputs": [
        {
          "output_type": "execute_result",
          "data": {
            "text/plain": [
              "2.5"
            ]
          },
          "metadata": {},
          "execution_count": 15
        }
      ]
    },
    {
      "cell_type": "code",
      "source": [
        "b=4%3\n",
        "b"
      ],
      "metadata": {
        "colab": {
          "base_uri": "https://localhost:8080/"
        },
        "id": "i9Kzv66wLC1y",
        "outputId": "3be76be8-eb97-4ec5-bcb8-e4449c2bbab6"
      },
      "execution_count": 16,
      "outputs": [
        {
          "output_type": "execute_result",
          "data": {
            "text/plain": [
              "1"
            ]
          },
          "metadata": {},
          "execution_count": 16
        }
      ]
    },
    {
      "cell_type": "code",
      "source": [
        "c=5//4\n",
        "c"
      ],
      "metadata": {
        "colab": {
          "base_uri": "https://localhost:8080/"
        },
        "id": "-Wu2BBcQLPe4",
        "outputId": "747a3bde-f171-44ed-87db-ffb61994d69e"
      },
      "execution_count": 17,
      "outputs": [
        {
          "output_type": "execute_result",
          "data": {
            "text/plain": [
              "1"
            ]
          },
          "metadata": {},
          "execution_count": 17
        }
      ]
    },
    {
      "cell_type": "code",
      "source": [
        "d=2**4\n",
        "d"
      ],
      "metadata": {
        "colab": {
          "base_uri": "https://localhost:8080/"
        },
        "id": "xhD6rRi3LC4y",
        "outputId": "9cd9387f-5072-4420-8226-59f667b49da4"
      },
      "execution_count": 18,
      "outputs": [
        {
          "output_type": "execute_result",
          "data": {
            "text/plain": [
              "16"
            ]
          },
          "metadata": {},
          "execution_count": 18
        }
      ]
    },
    {
      "cell_type": "code",
      "source": [
        "#Q4. Create a list of length 10 of your choice containing multiple types of data. Using for loop print the element and its data type.\n",
        "\n",
        "list=[1,2,3,4,5,6,'Gaurav','PWSkills',34.45,78,'Data Science']\n",
        "for i in list:\n",
        "  print(i,\":\",type(i))"
      ],
      "metadata": {
        "colab": {
          "base_uri": "https://localhost:8080/"
        },
        "id": "mxQ-dhvXLlfl",
        "outputId": "5102c652-1ccd-40c5-f352-cb589efc7ca1"
      },
      "execution_count": 20,
      "outputs": [
        {
          "output_type": "stream",
          "name": "stdout",
          "text": [
            "1 : <class 'int'>\n",
            "2 : <class 'int'>\n",
            "3 : <class 'int'>\n",
            "4 : <class 'int'>\n",
            "5 : <class 'int'>\n",
            "6 : <class 'int'>\n",
            "Gaurav : <class 'str'>\n",
            "PWSkills : <class 'str'>\n",
            "34.45 : <class 'float'>\n",
            "78 : <class 'int'>\n",
            "Data Science : <class 'str'>\n"
          ]
        }
      ]
    },
    {
      "cell_type": "code",
      "source": [
        "## Q5. Using a while loop, verify if the number A is purely divisible by number B and if so then how many times it can be divisible.\n",
        "a=int(input(\"Enter the value of A:\"))\n",
        "b=int(input(\"Enter the value of B:\"))\n",
        "while a//b:\n",
        "  print(a,\"a is purely divisible by\",b)\n",
        "  break\n",
        "else:\n",
        "  print(a,\"a is not divisble by b\")"
      ],
      "metadata": {
        "colab": {
          "base_uri": "https://localhost:8080/"
        },
        "id": "bgFehiBALnA0",
        "outputId": "c015f44e-9eea-4d31-ba0c-baf6dca034d6"
      },
      "execution_count": 22,
      "outputs": [
        {
          "output_type": "stream",
          "name": "stdout",
          "text": [
            "Enter the value of A:35\n",
            "Enter the value of B:5\n",
            "35 a is purely divisible by 5\n"
          ]
        }
      ]
    },
    {
      "cell_type": "code",
      "source": [
        "## Q6. Create a list containing 25 int type data. Using for loop and if-else condition print if the element is divisible by 3 or not.\n",
        "List=[1,2,3,4,5,6,7,8,9,10,11,12,13,14,15,16,17,18,19,20,21,22,23,24,25]\n",
        "for i in List:\n",
        "    if i%3==0:\n",
        "        print(i,\"is divisble by 3\")\n",
        "    else:\n",
        "        print(i,\"is not divisble by 3\")"
      ],
      "metadata": {
        "colab": {
          "base_uri": "https://localhost:8080/"
        },
        "id": "Kvs6-J7iLm8c",
        "outputId": "17804062-a591-4bee-a5a5-d4d42a811c41"
      },
      "execution_count": 24,
      "outputs": [
        {
          "output_type": "stream",
          "name": "stdout",
          "text": [
            "1 is not divisble by 3\n",
            "2 is not divisble by 3\n",
            "3 is divisble by 3\n",
            "4 is not divisble by 3\n",
            "5 is not divisble by 3\n",
            "6 is divisble by 3\n",
            "7 is not divisble by 3\n",
            "8 is not divisble by 3\n",
            "9 is divisble by 3\n",
            "10 is not divisble by 3\n",
            "11 is not divisble by 3\n",
            "12 is divisble by 3\n",
            "13 is not divisble by 3\n",
            "14 is not divisble by 3\n",
            "15 is divisble by 3\n",
            "16 is not divisble by 3\n",
            "17 is not divisble by 3\n",
            "18 is divisble by 3\n",
            "19 is not divisble by 3\n",
            "20 is not divisble by 3\n",
            "21 is divisble by 3\n",
            "22 is not divisble by 3\n",
            "23 is not divisble by 3\n",
            "24 is divisble by 3\n",
            "25 is not divisble by 3\n"
          ]
        }
      ]
    },
    {
      "cell_type": "code",
      "source": [
        "## Q7. What do you understand about mutable and immutable data types? Give examples for both showing this property\n",
        "## Mutable=Mutable mean we can change during exceution\n",
        "b=[1,2,4,5,'Gaurav'] ## it is mutable bcoz it can change\n",
        "##Immutable=Immutable mean we can;t change during exceution\n",
        "c=\"Gaurav\" ## Gaurav is immutable"
      ],
      "metadata": {
        "id": "VIMNto23LnFl"
      },
      "execution_count": 25,
      "outputs": []
    },
    {
      "cell_type": "markdown",
      "source": [],
      "metadata": {
        "id": "gt41UjS4JA5-"
      }
    }
  ]
}