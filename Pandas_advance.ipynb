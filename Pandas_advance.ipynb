{
 "cells": [
  {
   "cell_type": "markdown",
   "id": "f2baf108-2742-4edf-a1ed-1fe94d9c471f",
   "metadata": {},
   "source": [
    "\n",
    "\n",
    "\n",
    "\n",
    "\n",
    "\n"
   ]
  },
  {
   "cell_type": "markdown",
   "id": "01d0ddb9-4cea-4ff8-981b-900b6e1ecda8",
   "metadata": {},
   "source": [
    "## Q1. List any five functions of the pandas library with execution."
   ]
  },
  {
   "cell_type": "markdown",
   "id": "6d299df0-dfbb-4b3e-bca9-61b3a3af7a8b",
   "metadata": {},
   "source": [
    "1.head()  \n",
    "2.tail()  \n",
    "3.describe()  \n",
    "4.isnull()  \n",
    "5.dropna()  "
   ]
  },
  {
   "cell_type": "markdown",
   "id": "4d980961-73d9-455e-a61d-eaa26ac59bd2",
   "metadata": {},
   "source": [
    "## Q2. Given a Pandas DataFrame df with columns 'A', 'B', and 'C', write a Python function to re-index the DataFrame with a new index that starts from 1 and increments by 2 for each row."
   ]
  },
  {
   "cell_type": "code",
   "execution_count": 2,
   "id": "7ee0b59a-ce9d-413a-8577-699308030d5b",
   "metadata": {},
   "outputs": [
    {
     "name": "stdout",
     "output_type": "stream",
     "text": [
      "original DataFrame :\n",
      "    A   B   C\n",
      "0  10  40  70\n",
      "1  20  50  80\n",
      "2  30  60  90\n"
     ]
    }
   ],
   "source": [
    "import pandas as pd\n",
    "def re_index(df):\n",
    "    ## set the index start from 1 and increaments by 2 each\n",
    "    new_index=range(1,2*len(df)+1,2)\n",
    "    # Set the new index to the DataFrame\n",
    "    df.index=new_index\n",
    "    return df\n",
    "\n",
    "data={'A': [10, 20, 30], 'B': [40, 50, 60], 'C': [70, 80, 90]}\n",
    "df=pd.DataFrame(data)\n",
    "print(\"original DataFrame :\")\n",
    "print(df)\n",
    "    "
   ]
  },
  {
   "cell_type": "markdown",
   "id": "d1f335a6-ff0d-4f2c-962b-7a8fd2f925b2",
   "metadata": {},
   "source": [
    "## Q3. You have a Pandas DataFrame df with a column named 'Values'. Write a Python function that iterates over the DataFrame and calculates the sum of the first three values in the 'Values' column. The function should print the sum to the console.For example, if the 'Values' column of df contains the values [10, 20, 30, 40, 50], your function should calculate and print the sum of the first three values, which is 60."
   ]
  },
  {
   "cell_type": "code",
   "execution_count": 3,
   "id": "af2525e5-add2-4604-ad43-f1d63c0f245e",
   "metadata": {},
   "outputs": [
    {
     "name": "stdout",
     "output_type": "stream",
     "text": [
      "60\n"
     ]
    }
   ],
   "source": [
    "def sum_First_three(df):\n",
    "    total_sum=0\n",
    "    for i,value in enumerate(df['Values']):\n",
    "        if i<3 :\n",
    "            total_sum+=value\n",
    "        else :\n",
    "            break\n",
    "    print(total_sum)\n",
    "    \n",
    "data={'Values':[10, 20, 30, 40, 50]}\n",
    "df=pd.DataFrame(data)\n",
    "sum_First_three(df)"
   ]
  },
  {
   "cell_type": "markdown",
   "id": "df54e098-9953-4d78-9de8-607cfd20d1d2",
   "metadata": {},
   "source": [
    "## Q4. Given a Pandas DataFrame df with a column 'Text', write a Python function to create a new column 'Word_Count' that contains the number of words in each row of the 'Text' column."
   ]
  },
  {
   "cell_type": "code",
   "execution_count": 8,
   "id": "0dc8c589-925e-4154-8d24-f6fbc7fac6ad",
   "metadata": {},
   "outputs": [
    {
     "name": "stdout",
     "output_type": "stream",
     "text": [
      "                                Text  Word_count\n",
      "0                        Hello world           2\n",
      "1                     This is a test           4\n",
      "2  Pandas is great for data analysis           6\n"
     ]
    }
   ],
   "source": [
    "data={'Text':['Hello world', 'This is a test', 'Pandas is great for data analysis']}\n",
    "df=pd.DataFrame(data)\n",
    "def add_number_word(df):\n",
    "    df['Word_count']=df['Text'].apply(lambda x :len(str(x).split()))\n",
    "    return df\n",
    "df=add_number_word(df)\n",
    "print(df)"
   ]
  },
  {
   "cell_type": "markdown",
   "id": "163d42d9-802b-4b0e-a525-5725991fbaba",
   "metadata": {},
   "source": [
    "## Q5. How are DataFrame.size() and DataFrame.shape() different?"
   ]
  },
  {
   "cell_type": "code",
   "execution_count": 10,
   "id": "661070c1-e38f-47bc-93dd-f92cfba7c307",
   "metadata": {},
   "outputs": [],
   "source": [
    "df=pd.read_csv(\"HR_Analytics.csv\")"
   ]
  },
  {
   "cell_type": "code",
   "execution_count": 18,
   "id": "e4f81629-3764-4b97-918f-4c52623c018b",
   "metadata": {},
   "outputs": [
    {
     "data": {
      "text/plain": [
       "56240"
      ]
     },
     "execution_count": 18,
     "metadata": {},
     "output_type": "execute_result"
    }
   ],
   "source": [
    "df.size ## Give total no of eleemnts"
   ]
  },
  {
   "cell_type": "code",
   "execution_count": 17,
   "id": "48a7b1b3-b137-4b4f-a300-dd2b50115b13",
   "metadata": {},
   "outputs": [
    {
     "data": {
      "text/plain": [
       "(1480, 38)"
      ]
     },
     "execution_count": 17,
     "metadata": {},
     "output_type": "execute_result"
    }
   ],
   "source": [
    "df.shape ## Its give number of row and Column"
   ]
  },
  {
   "cell_type": "markdown",
   "id": "39f7186c-4d47-4ef3-b90c-16a815a5fb66",
   "metadata": {},
   "source": [
    "## Q6. Which function of pandas do we use to read an excel file?"
   ]
  },
  {
   "cell_type": "markdown",
   "id": "9f9a1912-46a8-4070-a7ff-02d69b3ebe90",
   "metadata": {},
   "source": [
    "## df=pd.read_Excel() is used to read the Excel Files"
   ]
  },
  {
   "cell_type": "markdown",
   "id": "45866663-ca29-4c66-8555-95dea6121120",
   "metadata": {},
   "source": [
    "## Q7. You have a Pandas DataFrame df that contains a column named 'Email' that contains email addresses in the format 'username@domain.com'. Write a Python function that creates a new column 'Username' in df that contains only the username part of each email address.The username is the part of the email address that appears before the '@' symbol. For example, if the email address is 'john.doe@example.com', the 'Username' column should contain 'john.doe'. Your function should extract the username from each email address and store it in the new 'Username'column."
   ]
  },
  {
   "cell_type": "code",
   "execution_count": 30,
   "id": "e3727e20-cc7f-4506-8ecc-0a060cb8a2bc",
   "metadata": {},
   "outputs": [
    {
     "name": "stdout",
     "output_type": "stream",
     "text": [
      "                  Email  Username\n",
      "0  john.doe@example.com  john.doe\n",
      "1      xyz.@example.com      xyz.\n",
      "2      mno.@example.com      mno.\n"
     ]
    }
   ],
   "source": [
    "data={'Email':['john.doe@example.com','xyz.@example.com','mno.@example.com']}\n",
    "df=pd.DataFrame(data)\n",
    "\n",
    "def name_in_mail(df):\n",
    "    df['Username']=df['Email'].apply(lambda x:x.split('@')[0])\n",
    "    return df\n",
    "df=name_in_mail(df)\n",
    "print(df)"
   ]
  },
  {
   "cell_type": "markdown",
   "id": "d7a5b6ed-b342-444a-a8cf-fba80ce192cf",
   "metadata": {},
   "source": [
    "# Q8. You have a Pandas DataFrame df with columns 'A', 'B', and 'C'. Write a Python function that selects all rows where the value in column 'A' is greater than 5 and the value in column 'B' is less than 10. The function should return a new DataFrame that contains only the selected rows."
   ]
  },
  {
   "cell_type": "code",
   "execution_count": 40,
   "id": "cea5c0f4-8ebd-4661-bb93-a6f19df35974",
   "metadata": {},
   "outputs": [
    {
     "name": "stdout",
     "output_type": "stream",
     "text": [
      "   A  B  C\n",
      "0  0  3  1\n",
      "1  1  8  7\n",
      "2  2  6  4\n",
      "3  3  2  5\n",
      "4  4  9  2\n"
     ]
    }
   ],
   "source": [
    "def select_row(df):\n",
    "    selected_row=df[(df['A']>5) & (df['B']<10)]\n",
    "    return selected_row\n",
    "\n",
    "data={'A':[0,1,2,3,4],'B':[3,8,6,2,9],'C':[1,7,4,5,2]\n",
    "     }\n",
    "df=pd.DataFrame(data)\n",
    "print(df)"
   ]
  },
  {
   "cell_type": "code",
   "execution_count": 41,
   "id": "90063c07-a255-4153-9c9a-8d40b02fdbf5",
   "metadata": {},
   "outputs": [
    {
     "name": "stdout",
     "output_type": "stream",
     "text": [
      "Empty DataFrame\n",
      "Columns: [A, B, C]\n",
      "Index: []\n"
     ]
    }
   ],
   "source": [
    "selected_rows=select_row(df)\n",
    "print(selected_rows)"
   ]
  },
  {
   "cell_type": "markdown",
   "id": "64f671b8-e85c-476c-bfbd-221aba9c7be2",
   "metadata": {},
   "source": [
    "## Q9. Given a Pandas DataFrame df with a column 'Values', write a Python function to calculate the mean,median, and standard deviation of the values in the 'Values' column."
   ]
  },
  {
   "cell_type": "code",
   "execution_count": 49,
   "id": "252f3932-1618-42ef-8fb9-c405c47776f1",
   "metadata": {},
   "outputs": [
    {
     "name": "stdout",
     "output_type": "stream",
     "text": [
      "   Values\n",
      "0       1\n",
      "1       2\n",
      "2       3\n",
      "3       4\n",
      "4       5\n",
      "5       6\n",
      "6       7\n",
      "7       8\n",
      "8       9\n"
     ]
    }
   ],
   "source": [
    "data={'Values':[1,2,3,4,5,6,7,8,9]}\n",
    "df=pd.DataFrame(data)\n",
    "print(df)"
   ]
  },
  {
   "cell_type": "code",
   "execution_count": 50,
   "id": "8fd496c5-e487-4221-b883-7daa93c683bf",
   "metadata": {},
   "outputs": [],
   "source": [
    "def calculate(df):\n",
    "    mean_value=df['Values'].mean()\n",
    "    median_value=df['Values'].median()\n",
    "    std_dev=df['Values'].std()\n",
    "    return{'Mean':mean_value,'Media':median_value,'Standard Deviation':std_dev}\n",
    "    \n",
    "    "
   ]
  },
  {
   "cell_type": "code",
   "execution_count": 51,
   "id": "3a5242d3-7333-467b-8ffd-361e32748d72",
   "metadata": {},
   "outputs": [
    {
     "name": "stdout",
     "output_type": "stream",
     "text": [
      "{'Mean': 5.0, 'Media': 5.0, 'Standard Deviation': 2.7386127875258306}\n"
     ]
    }
   ],
   "source": [
    "data=calculate(df)\n",
    "print(data)"
   ]
  },
  {
   "cell_type": "markdown",
   "id": "47130902-441e-4f1c-afc2-2043704dc6da",
   "metadata": {},
   "source": [
    "## Q10. Given a Pandas DataFrame df with a column 'Sales' and a column 'Date', write a Python function to create a new column 'MovingAverage' that contains the moving average of the sales for the past 7 days for each row in the DataFrame. The moving average should be calculated using a window of size 7 and should include the current day."
   ]
  },
  {
   "cell_type": "code",
   "execution_count": 54,
   "id": "8e478ba4-26b7-4f0a-b157-02978b055667",
   "metadata": {},
   "outputs": [
    {
     "name": "stdout",
     "output_type": "stream",
     "text": [
      "         Date  Sales\n",
      "0  2024-09-01    100\n",
      "1  2024-09-02    150\n",
      "2  2024-09-03    200\n",
      "3  2024-09-04    130\n",
      "4  2024-09-05    170\n",
      "5  2024-09-06    160\n",
      "6  2024-09-07    180\n",
      "7  2024-09-08    190\n",
      "8  2024-09-09    210\n",
      "9  2024-09-10    220\n"
     ]
    }
   ],
   "source": [
    "data = {\n",
    "    'Date': ['2024-09-01', '2024-09-02', '2024-09-03', '2024-09-04', '2024-09-05', \n",
    "             '2024-09-06', '2024-09-07', '2024-09-08', '2024-09-09', '2024-09-10'],\n",
    "    'Sales': [100, 150, 200, 130, 170, 160, 180, 190, 210, 220]\n",
    "}\n",
    "df = pd.DataFrame(data)\n",
    "print(df)"
   ]
  },
  {
   "cell_type": "code",
   "execution_count": 63,
   "id": "6045f3a7-9b5b-4f5f-87c9-f17c2d6a9a8d",
   "metadata": {},
   "outputs": [],
   "source": [
    "def create_new_colum(df):\n",
    "    df['Date']=pd.to_datetime(df['Date'])\n",
    "    df = df.sort_values(by='Date')\n",
    "    df['MovingAverage']=df['Sales'].rolling(window=7,min_periods=1).mean()\n",
    "    return df"
   ]
  },
  {
   "cell_type": "code",
   "execution_count": 64,
   "id": "ebbf1da1-d313-4716-b107-eacf72653952",
   "metadata": {},
   "outputs": [
    {
     "name": "stdout",
     "output_type": "stream",
     "text": [
      "        Date  Sales  MovingAverage\n",
      "0 2024-09-01    100     100.000000\n",
      "1 2024-09-02    150     125.000000\n",
      "2 2024-09-03    200     150.000000\n",
      "3 2024-09-04    130     145.000000\n",
      "4 2024-09-05    170     150.000000\n",
      "5 2024-09-06    160     151.666667\n",
      "6 2024-09-07    180     155.714286\n",
      "7 2024-09-08    190     168.571429\n",
      "8 2024-09-09    210     177.142857\n",
      "9 2024-09-10    220     180.000000\n"
     ]
    }
   ],
   "source": [
    "data=create_new_colum(df)\n",
    "print(data)"
   ]
  },
  {
   "cell_type": "markdown",
   "id": "74cb1a01-3236-4ba8-8f68-8c8a4d905c43",
   "metadata": {},
   "source": [
    "## Q11. You have a Pandas DataFrame df with a column 'Date'. Write a Python function that creates a new column 'Weekday' in the DataFrame. The 'Weekday' column should contain the weekday name (e.g Monday, Tuesday) corresponding to each date in the 'Date' column."
   ]
  },
  {
   "cell_type": "code",
   "execution_count": 65,
   "id": "37cbe432-6231-4885-be5b-b2c856019e55",
   "metadata": {},
   "outputs": [
    {
     "name": "stdout",
     "output_type": "stream",
     "text": [
      "         Date\n",
      "0  2024-09-01\n",
      "1  2024-09-02\n",
      "2  2024-09-03\n",
      "3  2024-09-04\n",
      "4  2024-09-05\n"
     ]
    }
   ],
   "source": [
    "data = {'Date': ['2024-09-01', '2024-09-02', '2024-09-03', '2024-09-04', '2024-09-05']}\n",
    "df = pd.DataFrame(data)\n",
    "print(df)"
   ]
  },
  {
   "cell_type": "code",
   "execution_count": null,
   "id": "8ace25bd-0a03-4f19-acce-2ee8a0f66afb",
   "metadata": {},
   "outputs": [],
   "source": [
    "def Create_Weekend(df):\n",
    "    df['Date']=pd.to_datetime(df['Date'])\n",
    "    df['Weekday']=df['Weekday'].dt.day_name()"
   ]
  }
 ],
 "metadata": {
  "kernelspec": {
   "display_name": "Python 3 (ipykernel)",
   "language": "python",
   "name": "python3"
  },
  "language_info": {
   "codemirror_mode": {
    "name": "ipython",
    "version": 3
   },
   "file_extension": ".py",
   "mimetype": "text/x-python",
   "name": "python",
   "nbconvert_exporter": "python",
   "pygments_lexer": "ipython3",
   "version": "3.10.8"
  }
 },
 "nbformat": 4,
 "nbformat_minor": 5
}
